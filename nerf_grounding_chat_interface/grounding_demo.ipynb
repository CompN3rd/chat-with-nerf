{
 "cells": [
  {
   "cell_type": "code",
   "execution_count": 15,
   "metadata": {},
   "outputs": [],
   "source": [
    "from typing import Tuple, List\n",
    "import requests"
   ]
  },
  {
   "cell_type": "code",
   "execution_count": 16,
   "metadata": {},
   "outputs": [],
   "source": [
    "ground_text = \"chair\""
   ]
  },
  {
   "cell_type": "code",
   "execution_count": 17,
   "metadata": {},
   "outputs": [],
   "source": [
    "# Set the API URL\n",
    "# print(\"ground text: \", ground_text)\n",
    "url = \"http://localhost:7009/visualground/\" + ground_text\n",
    "\n",
    "# Make an HTTP GET request\n",
    "response = requests.get(url)\n"
   ]
  },
  {
   "cell_type": "code",
   "execution_count": 18,
   "metadata": {},
   "outputs": [
    {
     "name": "stdout",
     "output_type": "stream",
     "text": [
      "{'/workspace/grounding/clip/003.png': ['The chair is blue and orange in color'], '/workspace/grounding/clip/004.png': ['The chair is blue and yellow in color'], '/workspace/grounding/clip/005.png': ['The chair is blue in color']}\n"
     ]
    }
   ],
   "source": [
    "# Check the status code\n",
    "if response.status_code == 200:\n",
    "   # Parse the response data (assuming it's JSON)\n",
    "   data = response.json()\n",
    "\n",
    "   # Do something with the data, e.g., print it\n",
    "   print(data)\n",
    "#   logging.info(f\"Input value: {data}\")\n",
    "else:\n",
    "   print(f\"Request failed with status code {response.status_code}\")\n",
    "#   logging.info(f\"Request failed with status code {response.status_code}\")"
   ]
  },
  {
   "cell_type": "code",
   "execution_count": null,
   "metadata": {},
   "outputs": [],
   "source": [
    "#  return [\n",
    "#      (\n",
    "#          client_utils.encode_url_or_file_to_base64(\"grounder_images/000.png\"),\n",
    "#          \"a long sofa with white cover and yellow accent, metallic legs\",\n",
    "#      ),\n",
    "#      (\n",
    "#          client_utils.encode_url_or_file_to_base64(\"grounder_images/001.png\"),\n",
    "#          \"a loveseat with a pillow on top, white cover and yellow accent, metallic legs\",\n",
    "#      ),\n",
    "#  ]"
   ]
  }
 ],
 "metadata": {
  "kernelspec": {
   "display_name": "lang-seg",
   "language": "python",
   "name": "python3"
  },
  "language_info": {
   "codemirror_mode": {
    "name": "ipython",
    "version": 3
   },
   "file_extension": ".py",
   "mimetype": "text/x-python",
   "name": "python",
   "nbconvert_exporter": "python",
   "pygments_lexer": "ipython3",
   "version": "3.9.0"
  },
  "orig_nbformat": 4
 },
 "nbformat": 4,
 "nbformat_minor": 2
}
