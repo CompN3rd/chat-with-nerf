{
 "cells": [
  {
   "cell_type": "code",
   "execution_count": 36,
   "metadata": {},
   "outputs": [],
   "source": [
    "from setting import Settings\n",
    "import numpy as np"
   ]
  },
  {
   "cell_type": "code",
   "execution_count": 37,
   "metadata": {},
   "outputs": [],
   "source": [
    "angle_degrees = 60\n",
    "angle_radians = np.radians(angle_degrees)\n",
    "\n",
    "rotation_matrix = np.array([\n",
    "    [np.cos(angle_radians), -np.sin(angle_radians), 0, 0],\n",
    "    [np.sin(angle_radians),  np.cos(angle_radians), 0, 0],\n",
    "    [0, 0, 1, 0],\n",
    "    [0, 0, 0, 1]\n",
    "])"
   ]
  },
  {
   "cell_type": "code",
   "execution_count": 41,
   "metadata": {},
   "outputs": [],
   "source": [
    "settings = Settings()\n",
    "c2w = np.array(settings.camera_poses['camera_path'][0]['camera_to_world']).reshape(4, 4)"
   ]
  },
  {
   "cell_type": "code",
   "execution_count": 44,
   "metadata": {},
   "outputs": [
    {
     "name": "stdout",
     "output_type": "stream",
     "text": [
      "[[0.10231189425704014], [0.48911119307539097], [0.8662000445058311], [0.5058938174837787], [-0.9947523693329592], [0.050305879341026004], [0.08909007919061408], [0.0003705601201718159], [5.81053666504635e-16], [-0.8707695213499914], [0.4916914079866622], [0.3994575663738732], [0.0], [0.0], [0.0], [1.0]]\n"
     ]
    }
   ],
   "source": [
    "print(settings.camera_poses['camera_path'][3]['camera_to_world'])"
   ]
  },
  {
   "cell_type": "code",
   "execution_count": 40,
   "metadata": {},
   "outputs": [
    {
     "name": "stdout",
     "output_type": "stream",
     "text": [
      "[[-0.4747386656071242], [-0.15595089700179138], [0.8662000445058311], [0.5058938174837787], [0.4538100151974361], [-0.8866337619876163], [0.08909007919061408], [0.0003705601201718159], [0.7541085263303087], [0.43538476067499604], [0.4916914079866622], [0.3994575663738732], [0.0], [0.0], [0.0], [1.0]]\n",
      "[[-0.3724267713500839], [0.33316029607359954], [0.8662000445058311], [0.5058938174837787], [-0.540942354135523], [-0.83632788264659], [0.08909007919061408], [0.0003705601201718159], [0.754108526330309], [-0.43538476067499543], [0.4916914079866622], [0.3994575663738732], [0.0], [0.0], [0.0], [1.0]]\n",
      "[[0.10231189425704014], [0.48911119307539097], [0.8662000445058311], [0.5058938174837787], [-0.9947523693329592], [0.050305879341026004], [0.08909007919061408], [0.0003705601201718159], [5.81053666504635e-16], [-0.8707695213499914], [0.4916914079866622], [0.3994575663738732], [0.0], [0.0], [0.0], [1.0]]\n",
      "[[0.474738665607124], [0.15595089700179157], [0.8662000445058311], [0.5058938174837787], [-0.4538100151974364], [0.8866337619876159], [0.08909007919061408], [0.0003705601201718159], [-0.7541085263303082], [-0.4353847606749963], [0.4916914079866622], [0.3994575663738732], [0.0], [0.0], [0.0], [1.0]]\n",
      "[[0.372426771350084], [-0.33316029607359926], [0.8662000445058311], [0.5058938174837787], [0.5409423541355225], [0.8363278826465901], [0.08909007919061408], [0.0003705601201718159], [-0.754108526330309], [0.4353847606749948], [0.4916914079866622], [0.3994575663738732], [0.0], [0.0], [0.0], [1.0]]\n"
     ]
    }
   ],
   "source": [
    "for i in range(1, len(settings.camera_poses['camera_path'])):\n",
    "   c2w = c2w @ rotation_matrix\n",
    "   # print(c2w)\n",
    "   c2w_new = c2w.reshape(16, 1)\n",
    "   settings.camera_poses['camera_path'][i]['camera_to_world'] = c2w_new.tolist()\n",
    "   print(c2w_new.tolist())"
   ]
  },
  {
   "cell_type": "code",
   "execution_count": 35,
   "metadata": {},
   "outputs": [
    {
     "data": {
      "text/plain": [
       "[{'camera_to_world': [-0.10231189425704039,\n",
       "   -0.489111193075391,\n",
       "   0.8662000445058311,\n",
       "   0.5058938174837787,\n",
       "   0.9947523693329594,\n",
       "   -0.05030587934102655,\n",
       "   0.08909007919061408,\n",
       "   0.0003705601201718159,\n",
       "   -1.5265566588595905e-16,\n",
       "   0.8707695213499916,\n",
       "   0.4916914079866622,\n",
       "   0.3994575663738732,\n",
       "   0,\n",
       "   0,\n",
       "   0,\n",
       "   1],\n",
       "  'fov': 60,\n",
       "  'aspect': 1},\n",
       " {'camera_to_world': [[-0.4747386656071242],\n",
       "   [-0.15595089700179138],\n",
       "   [0.8662000445058311],\n",
       "   [0.5058938174837787],\n",
       "   [0.4538100151974361],\n",
       "   [-0.8866337619876163],\n",
       "   [0.08909007919061408],\n",
       "   [0.0003705601201718159],\n",
       "   [0.7541085263303087],\n",
       "   [0.43538476067499604],\n",
       "   [0.4916914079866622],\n",
       "   [0.3994575663738732],\n",
       "   [0.0],\n",
       "   [0.0],\n",
       "   [0.0],\n",
       "   [1.0]],\n",
       "  'fov': 60,\n",
       "  'aspect': 1},\n",
       " {'camera_to_world': [[-0.3724267713500839],\n",
       "   [0.33316029607359954],\n",
       "   [0.8662000445058311],\n",
       "   [0.5058938174837787],\n",
       "   [-0.540942354135523],\n",
       "   [-0.83632788264659],\n",
       "   [0.08909007919061408],\n",
       "   [0.0003705601201718159],\n",
       "   [0.754108526330309],\n",
       "   [-0.43538476067499543],\n",
       "   [0.4916914079866622],\n",
       "   [0.3994575663738732],\n",
       "   [0.0],\n",
       "   [0.0],\n",
       "   [0.0],\n",
       "   [1.0]],\n",
       "  'fov': 60,\n",
       "  'aspect': 1},\n",
       " {'camera_to_world': [[0.10231189425704014],\n",
       "   [0.48911119307539097],\n",
       "   [0.8662000445058311],\n",
       "   [0.5058938174837787],\n",
       "   [-0.9947523693329592],\n",
       "   [0.050305879341026004],\n",
       "   [0.08909007919061408],\n",
       "   [0.0003705601201718159],\n",
       "   [5.81053666504635e-16],\n",
       "   [-0.8707695213499914],\n",
       "   [0.4916914079866622],\n",
       "   [0.3994575663738732],\n",
       "   [0.0],\n",
       "   [0.0],\n",
       "   [0.0],\n",
       "   [1.0]],\n",
       "  'fov': 60,\n",
       "  'aspect': 1},\n",
       " {'camera_to_world': [[0.474738665607124],\n",
       "   [0.15595089700179157],\n",
       "   [0.8662000445058311],\n",
       "   [0.5058938174837787],\n",
       "   [-0.4538100151974364],\n",
       "   [0.8866337619876159],\n",
       "   [0.08909007919061408],\n",
       "   [0.0003705601201718159],\n",
       "   [-0.7541085263303082],\n",
       "   [-0.4353847606749963],\n",
       "   [0.4916914079866622],\n",
       "   [0.3994575663738732],\n",
       "   [0.0],\n",
       "   [0.0],\n",
       "   [0.0],\n",
       "   [1.0]],\n",
       "  'fov': 60,\n",
       "  'aspect': 1},\n",
       " {'camera_to_world': [[0.372426771350084],\n",
       "   [-0.33316029607359926],\n",
       "   [0.8662000445058311],\n",
       "   [0.5058938174837787],\n",
       "   [0.5409423541355225],\n",
       "   [0.8363278826465901],\n",
       "   [0.08909007919061408],\n",
       "   [0.0003705601201718159],\n",
       "   [-0.754108526330309],\n",
       "   [0.4353847606749948],\n",
       "   [0.4916914079866622],\n",
       "   [0.3994575663738732],\n",
       "   [0.0],\n",
       "   [0.0],\n",
       "   [0.0],\n",
       "   [1.0]],\n",
       "  'fov': 60,\n",
       "  'aspect': 1}]"
      ]
     },
     "execution_count": 35,
     "metadata": {},
     "output_type": "execute_result"
    }
   ],
   "source": [
    "settings.camera_poses['camera_path']"
   ]
  },
  {
   "cell_type": "code",
   "execution_count": 23,
   "metadata": {},
   "outputs": [
    {
     "name": "stdout",
     "output_type": "stream",
     "text": [
      "1915868460001.json\n"
     ]
    }
   ],
   "source": [
    "import os\n",
    "\n",
    "# Replace 'your_directory_path' with the actual path to the directory\n",
    "directory_path = r'/workspace/inthewild/bigexample/Apr7at4-46PM-poly/keyframes/corrected_cameras'\n",
    "\n",
    "# List all files in the directory\n",
    "all_files = [f for f in os.listdir(directory_path) if os.path.isfile(os.path.join(directory_path, f))]\n",
    "\n",
    "# Sort the files alphabetically\n",
    "all_files.sort()\n",
    "\n",
    "# Get the first file in the sorted list\n",
    "first_file = all_files[0] if all_files else None\n",
    "\n",
    "# Print the first file\n",
    "print(first_file)"
   ]
  },
  {
   "cell_type": "code",
   "execution_count": 32,
   "metadata": {},
   "outputs": [
    {
     "name": "stdout",
     "output_type": "stream",
     "text": [
      "{'blur_score': 177.5570526123047, 'cx': 514.4260864257812, 'cy': 383.7248229980469, 'fx': 770.0746239830255, 'fy': 770.0746239830255, 'height': 768, 'manual_keyframe': False, 'neighbors': [1915954985708, 1916188352730, 1916189386359, 1915954518908, 1916187685869, 1915955719258, 1915871844385, 1915874045070, 1915874195115, 1915913340180], 't_00': -0.032949190586805344, 't_01': 0.9902731776237488, 't_02': -0.13517914712429047, 't_03': -0.09575456380844116, 't_10': -0.9475382566452026, 't_11': 0.012074971571564674, 't_12': 0.3194141983985901, 't_13': -0.0339953750371933, 't_20': 0.3179395794868469, 't_21': 0.13861185312271118, 't_22': 0.9379238486289978, 't_23': 0.2467084676027298, 'timestamp': 1915868460001, 'width': 1024}\n"
     ]
    }
   ],
   "source": [
    "import json\n",
    "\n",
    "file_path = directory_path + '/' + first_file\n",
    "# Replace 'file_path.json' with the actual path to your JSON file\n",
    "with open(file_path, 'r') as file:\n",
    "    data = json.load(file)\n",
    "\n",
    "# Now, 'data' contains the contents of the JSON file as a Python dictionary\n",
    "print(data)"
   ]
  },
  {
   "cell_type": "code",
   "execution_count": 46,
   "metadata": {},
   "outputs": [],
   "source": [
    "import numpy as np\n",
    "\n",
    "camera_to_world_matrix = np.zeros((4, 4))\n",
    "\n",
    "prefix = 't_'\n",
    "\n",
    "for i in range(3):\n",
    "    for j in range(4):\n",
    "      # print(prefix + str(i) + str(j))\n",
    "      # print(data[prefix + str(i) + str(j)])\n",
    "      camera_to_world_matrix[i][j] = data[prefix + str(i) + str(j)]\n",
    "\n",
    "camera_to_world_matrix[2][1] = 0\n",
    "camera_to_world_matrix[3][3] = 1"
   ]
  },
  {
   "cell_type": "code",
   "execution_count": 47,
   "metadata": {},
   "outputs": [
    {
     "name": "stdout",
     "output_type": "stream",
     "text": [
      "[[-0.03294919  0.99027318 -0.13517915 -0.09575456]\n",
      " [-0.94753826  0.01207497  0.3194142  -0.03399538]\n",
      " [ 0.31793958  0.          0.93792385  0.24670847]\n",
      " [ 0.          0.          0.          1.        ]]\n"
     ]
    }
   ],
   "source": [
    "print(camera_to_world_matrix)"
   ]
  },
  {
   "cell_type": "code",
   "execution_count": 34,
   "metadata": {},
   "outputs": [],
   "source": [
    "from nerf_grounding_chat_interface.chat.model_context import ModelContextManager"
   ]
  },
  {
   "cell_type": "code",
   "execution_count": 14,
   "metadata": {},
   "outputs": [
    {
     "name": "stdout",
     "output_type": "stream",
     "text": [
      "load_config:  /workspace/inthewild/outputs/bigexample/lerf/2023-04-22_022439/config.yml\n",
      "output_path:  /workspace/nerf-grounding-chat-interface/grounder_images/results\n",
      "Initialize Blip2Captioner\n",
      "\u001b[32;20m[2023-05-09 06:46:48,449] INFO root [__init__] [blip2_t5.py:69] - freeze vision encoder\u001b[0m\n"
     ]
    },
    {
     "data": {
      "application/vnd.jupyter.widget-view+json": {
       "model_id": "75ebd7e25837494f93758bebea26ab05",
       "version_major": 2,
       "version_minor": 0
      },
      "text/plain": [
       "Loading checkpoint shards:   0%|          | 0/5 [00:00<?, ?it/s]"
      ]
     },
     "metadata": {},
     "output_type": "display_data"
    },
    {
     "name": "stdout",
     "output_type": "stream",
     "text": [
      "\u001b[32;20m[2023-05-09 06:48:32,006] INFO root [load_from_pretrained] [blip2.py:96] - load checkpoint from https://storage.googleapis.com/sfr-vision-language-research/LAVIS/models/BLIP2/blip2_pretrained_flant5xxl.pth\u001b[0m\n",
      "Initialize LERF pipeline\n",
      "\u001b[32;20m[2023-05-09 06:48:37,892] INFO torch.distributed.nn.jit.instantiator [<module>] [instantiator.py:21] - Created a temporary directory at /tmp/tmpvfhanimd\u001b[0m\n",
      "\u001b[32;20m[2023-05-09 06:48:37,894] INFO torch.distributed.nn.jit.instantiator [_write] [instantiator.py:76] - Writing /tmp/tmpvfhanimd/_remote_module_non_scriptable.py\u001b[0m\n",
      "\u001b[32;20m[2023-05-09 06:48:38,263] INFO root [create_model] [factory.py:158] - Loaded ViT-B-16 model config.\u001b[0m\n",
      "\u001b[32;20m[2023-05-09 06:48:39,443] INFO root [create_model] [factory.py:206] - Loading pretrained ViT-B-16 weights (laion2b_s34b_b88k).\u001b[0m\n"
     ]
    },
    {
     "data": {
      "text/html": [
       "<pre style=\"white-space:pre;overflow-x:auto;line-height:normal;font-family:Menlo,'DejaVu Sans Mono',consolas,'Courier New',monospace\"><span style=\"color: #7fbfbf; text-decoration-color: #7fbfbf\">[06:48:41] </span>Auto image downscale factor of <span style=\"color: #008080; text-decoration-color: #008080; font-weight: bold\">1</span>                                                 <a href=\"file:///workspace/nerfstudio/nerfstudio/data/dataparsers/nerfstudio_dataparser.py\" target=\"_blank\"><span style=\"color: #7f7f7f; text-decoration-color: #7f7f7f\">nerfstudio_dataparser.py</span></a><span style=\"color: #7f7f7f; text-decoration-color: #7f7f7f\">:</span><a href=\"file:///workspace/nerfstudio/nerfstudio/data/dataparsers/nerfstudio_dataparser.py#339\" target=\"_blank\"><span style=\"color: #7f7f7f; text-decoration-color: #7f7f7f\">339</span></a>\n",
       "</pre>\n"
      ],
      "text/plain": [
       "\u001b[2;36m[06:48:41]\u001b[0m\u001b[2;36m \u001b[0mAuto image downscale factor of \u001b[1;36m1\u001b[0m                                                 \u001b]8;id=830414;file:///workspace/nerfstudio/nerfstudio/data/dataparsers/nerfstudio_dataparser.py\u001b\\\u001b[2mnerfstudio_dataparser.py\u001b[0m\u001b]8;;\u001b\\\u001b[2m:\u001b[0m\u001b]8;id=137489;file:///workspace/nerfstudio/nerfstudio/data/dataparsers/nerfstudio_dataparser.py#339\u001b\\\u001b[2m339\u001b[0m\u001b]8;;\u001b\\\n"
      ]
     },
     "metadata": {},
     "output_type": "display_data"
    },
    {
     "data": {
      "text/html": [
       "<pre style=\"white-space:pre;overflow-x:auto;line-height:normal;font-family:Menlo,'DejaVu Sans Mono',consolas,'Courier New',monospace\"><span style=\"color: #7fbfbf; text-decoration-color: #7fbfbf\">           </span>Skipping <span style=\"color: #008080; text-decoration-color: #008080; font-weight: bold\">0</span> files in dataset split train.                                         <a href=\"file:///workspace/nerfstudio/nerfstudio/data/dataparsers/nerfstudio_dataparser.py\" target=\"_blank\"><span style=\"color: #7f7f7f; text-decoration-color: #7f7f7f\">nerfstudio_dataparser.py</span></a><span style=\"color: #7f7f7f; text-decoration-color: #7f7f7f\">:</span><a href=\"file:///workspace/nerfstudio/nerfstudio/data/dataparsers/nerfstudio_dataparser.py#167\" target=\"_blank\"><span style=\"color: #7f7f7f; text-decoration-color: #7f7f7f\">167</span></a>\n",
       "</pre>\n"
      ],
      "text/plain": [
       "\u001b[2;36m          \u001b[0m\u001b[2;36m \u001b[0mSkipping \u001b[1;36m0\u001b[0m files in dataset split train.                                         \u001b]8;id=627656;file:///workspace/nerfstudio/nerfstudio/data/dataparsers/nerfstudio_dataparser.py\u001b\\\u001b[2mnerfstudio_dataparser.py\u001b[0m\u001b]8;;\u001b\\\u001b[2m:\u001b[0m\u001b]8;id=921739;file:///workspace/nerfstudio/nerfstudio/data/dataparsers/nerfstudio_dataparser.py#167\u001b\\\u001b[2m167\u001b[0m\u001b]8;;\u001b\\\n"
      ]
     },
     "metadata": {},
     "output_type": "display_data"
    },
    {
     "data": {
      "text/html": [
       "<pre style=\"white-space:pre;overflow-x:auto;line-height:normal;font-family:Menlo,'DejaVu Sans Mono',consolas,'Courier New',monospace\"><span style=\"color: #7fbfbf; text-decoration-color: #7fbfbf\">           </span><span style=\"color: #808000; text-decoration-color: #808000\"> Dataset is overriding orientation method to none</span>                                <a href=\"file:///workspace/nerfstudio/nerfstudio/data/dataparsers/nerfstudio_dataparser.py\" target=\"_blank\"><span style=\"color: #7f7f7f; text-decoration-color: #7f7f7f\">nerfstudio_dataparser.py</span></a><span style=\"color: #7f7f7f; text-decoration-color: #7f7f7f\">:</span><a href=\"file:///workspace/nerfstudio/nerfstudio/data/dataparsers/nerfstudio_dataparser.py#220\" target=\"_blank\"><span style=\"color: #7f7f7f; text-decoration-color: #7f7f7f\">220</span></a>\n",
       "</pre>\n"
      ],
      "text/plain": [
       "\u001b[2;36m          \u001b[0m\u001b[2;36m \u001b[0m\u001b[33m Dataset is overriding orientation method to none\u001b[0m                                \u001b]8;id=975027;file:///workspace/nerfstudio/nerfstudio/data/dataparsers/nerfstudio_dataparser.py\u001b\\\u001b[2mnerfstudio_dataparser.py\u001b[0m\u001b]8;;\u001b\\\u001b[2m:\u001b[0m\u001b]8;id=845071;file:///workspace/nerfstudio/nerfstudio/data/dataparsers/nerfstudio_dataparser.py#220\u001b\\\u001b[2m220\u001b[0m\u001b]8;;\u001b\\\n"
      ]
     },
     "metadata": {},
     "output_type": "display_data"
    },
    {
     "data": {
      "text/html": [
       "<pre style=\"white-space:pre;overflow-x:auto;line-height:normal;font-family:Menlo,'DejaVu Sans Mono',consolas,'Courier New',monospace\"><span style=\"color: #7fbfbf; text-decoration-color: #7fbfbf\">           </span>Skipping <span style=\"color: #008080; text-decoration-color: #008080; font-weight: bold\">0</span> files in dataset split test.                                          <a href=\"file:///workspace/nerfstudio/nerfstudio/data/dataparsers/nerfstudio_dataparser.py\" target=\"_blank\"><span style=\"color: #7f7f7f; text-decoration-color: #7f7f7f\">nerfstudio_dataparser.py</span></a><span style=\"color: #7f7f7f; text-decoration-color: #7f7f7f\">:</span><a href=\"file:///workspace/nerfstudio/nerfstudio/data/dataparsers/nerfstudio_dataparser.py#167\" target=\"_blank\"><span style=\"color: #7f7f7f; text-decoration-color: #7f7f7f\">167</span></a>\n",
       "</pre>\n"
      ],
      "text/plain": [
       "\u001b[2;36m          \u001b[0m\u001b[2;36m \u001b[0mSkipping \u001b[1;36m0\u001b[0m files in dataset split test.                                          \u001b]8;id=498952;file:///workspace/nerfstudio/nerfstudio/data/dataparsers/nerfstudio_dataparser.py\u001b\\\u001b[2mnerfstudio_dataparser.py\u001b[0m\u001b]8;;\u001b\\\u001b[2m:\u001b[0m\u001b]8;id=914672;file:///workspace/nerfstudio/nerfstudio/data/dataparsers/nerfstudio_dataparser.py#167\u001b\\\u001b[2m167\u001b[0m\u001b]8;;\u001b\\\n"
      ]
     },
     "metadata": {},
     "output_type": "display_data"
    },
    {
     "data": {
      "text/html": [
       "<pre style=\"white-space:pre;overflow-x:auto;line-height:normal;font-family:Menlo,'DejaVu Sans Mono',consolas,'Courier New',monospace\"><span style=\"color: #7fbfbf; text-decoration-color: #7fbfbf\">           </span><span style=\"color: #808000; text-decoration-color: #808000\"> Dataset is overriding orientation method to none</span>                                <a href=\"file:///workspace/nerfstudio/nerfstudio/data/dataparsers/nerfstudio_dataparser.py\" target=\"_blank\"><span style=\"color: #7f7f7f; text-decoration-color: #7f7f7f\">nerfstudio_dataparser.py</span></a><span style=\"color: #7f7f7f; text-decoration-color: #7f7f7f\">:</span><a href=\"file:///workspace/nerfstudio/nerfstudio/data/dataparsers/nerfstudio_dataparser.py#220\" target=\"_blank\"><span style=\"color: #7f7f7f; text-decoration-color: #7f7f7f\">220</span></a>\n",
       "</pre>\n"
      ],
      "text/plain": [
       "\u001b[2;36m          \u001b[0m\u001b[2;36m \u001b[0m\u001b[33m Dataset is overriding orientation method to none\u001b[0m                                \u001b]8;id=66036;file:///workspace/nerfstudio/nerfstudio/data/dataparsers/nerfstudio_dataparser.py\u001b\\\u001b[2mnerfstudio_dataparser.py\u001b[0m\u001b]8;;\u001b\\\u001b[2m:\u001b[0m\u001b]8;id=879310;file:///workspace/nerfstudio/nerfstudio/data/dataparsers/nerfstudio_dataparser.py#220\u001b\\\u001b[2m220\u001b[0m\u001b]8;;\u001b\\\n"
      ]
     },
     "metadata": {},
     "output_type": "display_data"
    },
    {
     "data": {
      "text/html": [
       "<pre style=\"white-space:pre;overflow-x:auto;line-height:normal;font-family:Menlo,'DejaVu Sans Mono',consolas,'Courier New',monospace\">Setting up training dataset<span style=\"color: #808000; text-decoration-color: #808000\">...</span>\n",
       "</pre>\n"
      ],
      "text/plain": [
       "Setting up training dataset\u001b[33m...\u001b[0m\n"
      ]
     },
     "metadata": {},
     "output_type": "display_data"
    },
    {
     "data": {
      "text/html": [
       "<pre style=\"white-space:pre;overflow-x:auto;line-height:normal;font-family:Menlo,'DejaVu Sans Mono',consolas,'Courier New',monospace\">Caching all <span style=\"color: #008080; text-decoration-color: #008080; font-weight: bold\">488</span> images.\n",
       "</pre>\n"
      ],
      "text/plain": [
       "Caching all \u001b[1;36m488\u001b[0m images.\n"
      ]
     },
     "metadata": {},
     "output_type": "display_data"
    },
    {
     "data": {
      "application/vnd.jupyter.widget-view+json": {
       "model_id": "ffbf789d099a4e97882a00029c289f47",
       "version_major": 2,
       "version_minor": 0
      },
      "text/plain": [
       "Output()"
      ]
     },
     "metadata": {},
     "output_type": "display_data"
    },
    {
     "data": {
      "text/html": [
       "<pre style=\"white-space:pre;overflow-x:auto;line-height:normal;font-family:Menlo,'DejaVu Sans Mono',consolas,'Courier New',monospace\"></pre>\n"
      ],
      "text/plain": []
     },
     "metadata": {},
     "output_type": "display_data"
    },
    {
     "data": {
      "text/html": [
       "<pre style=\"white-space:pre;overflow-x:auto;line-height:normal;font-family:Menlo,'DejaVu Sans Mono',consolas,'Courier New',monospace\">\n",
       "</pre>\n"
      ],
      "text/plain": [
       "\n"
      ]
     },
     "metadata": {},
     "output_type": "display_data"
    },
    {
     "data": {
      "text/html": [
       "<pre style=\"white-space:pre;overflow-x:auto;line-height:normal;font-family:Menlo,'DejaVu Sans Mono',consolas,'Courier New',monospace\">Setting up evaluation dataset<span style=\"color: #808000; text-decoration-color: #808000\">...</span>\n",
       "</pre>\n"
      ],
      "text/plain": [
       "Setting up evaluation dataset\u001b[33m...\u001b[0m\n"
      ]
     },
     "metadata": {},
     "output_type": "display_data"
    },
    {
     "data": {
      "text/html": [
       "<pre style=\"white-space:pre;overflow-x:auto;line-height:normal;font-family:Menlo,'DejaVu Sans Mono',consolas,'Courier New',monospace\">Caching all <span style=\"color: #008080; text-decoration-color: #008080; font-weight: bold\">4</span> images.\n",
       "</pre>\n"
      ],
      "text/plain": [
       "Caching all \u001b[1;36m4\u001b[0m images.\n"
      ]
     },
     "metadata": {},
     "output_type": "display_data"
    },
    {
     "data": {
      "application/vnd.jupyter.widget-view+json": {
       "model_id": "3a110e02ab93451db2b19345b0d8287e",
       "version_major": 2,
       "version_minor": 0
      },
      "text/plain": [
       "Output()"
      ]
     },
     "metadata": {},
     "output_type": "display_data"
    },
    {
     "data": {
      "text/html": [
       "<pre style=\"white-space:pre;overflow-x:auto;line-height:normal;font-family:Menlo,'DejaVu Sans Mono',consolas,'Courier New',monospace\"></pre>\n"
      ],
      "text/plain": []
     },
     "metadata": {},
     "output_type": "display_data"
    },
    {
     "data": {
      "text/html": [
       "<pre style=\"white-space:pre;overflow-x:auto;line-height:normal;font-family:Menlo,'DejaVu Sans Mono',consolas,'Courier New',monospace\">\n",
       "</pre>\n"
      ],
      "text/plain": [
       "\n"
      ]
     },
     "metadata": {},
     "output_type": "display_data"
    },
    {
     "name": "stderr",
     "output_type": "stream",
     "text": [
      "Scales: 100%|██████████| 7/7 [00:00<00:00, 17.61it/s]\n"
     ]
    },
    {
     "data": {
      "text/html": [
       "<pre style=\"white-space:pre;overflow-x:auto;line-height:normal;font-family:Menlo,'DejaVu Sans Mono',consolas,'Courier New',monospace\">Loading latest checkpoint from load_dir\n",
       "</pre>\n"
      ],
      "text/plain": [
       "Loading latest checkpoint from load_dir\n"
      ]
     },
     "metadata": {},
     "output_type": "display_data"
    },
    {
     "data": {
      "text/html": [
       "<pre style=\"white-space:pre;overflow-x:auto;line-height:normal;font-family:Menlo,'DejaVu Sans Mono',consolas,'Courier New',monospace\">✅ Done loading checkpoint from \n",
       "<span style=\"color: #800080; text-decoration-color: #800080\">/workspace/inthewild/outputs/bigexample/lerf/2023-04-22_022439/nerfstudio_models/</span><span style=\"color: #ff00ff; text-decoration-color: #ff00ff\">step-000020000.ckpt</span>\n",
       "</pre>\n"
      ],
      "text/plain": [
       "✅ Done loading checkpoint from \n",
       "\u001b[35m/workspace/inthewild/outputs/bigexample/lerf/2023-04-22_022439/nerfstudio_models/\u001b[0m\u001b[95mstep-000020000.ckpt\u001b[0m\n"
      ]
     },
     "metadata": {},
     "output_type": "display_data"
    },
    {
     "name": "stdout",
     "output_type": "stream",
     "text": [
      "Initialize visualGrounder\n"
     ]
    }
   ],
   "source": [
    "modelcontext = ModelContextManager.get_model_context()"
   ]
  },
  {
   "cell_type": "code",
   "execution_count": 48,
   "metadata": {},
   "outputs": [],
   "source": [
    "from settings import Settings\n",
    "\n",
    "settings = Settings()\n",
    "\n",
    "camera_pose_preset = settings.camera_poses "
   ]
  },
  {
   "cell_type": "code",
   "execution_count": 49,
   "metadata": {},
   "outputs": [],
   "source": [
    "angle_degrees = 60\n",
    "angle_radians = np.radians(angle_degrees)\n",
    "rotation_matrix_x = np.array([\n",
    "    [1, 0, 0, 0],\n",
    "    [0, np.cos(angle_radians), -np.sin(angle_radians), 0],\n",
    "    [0, np.sin(angle_radians), np.cos(angle_radians), 0],\n",
    "    [0, 0, 0, 1]\n",
    "])\n",
    "\n",
    "rotation_matrix_y = np.array([\n",
    "    [np.cos(angle_radians), 0, np.sin(angle_radians), 0],\n",
    "    [0, 1, 0, 0],\n",
    "    [-np.sin(angle_radians), 0, np.cos(angle_radians), 0],\n",
    "    [0, 0, 0, 1]\n",
    "])\n",
    "\n",
    "rotation_matrix_z = np.array([\n",
    "    [np.cos(angle_radians), -np.sin(angle_radians), 0, 0],\n",
    "    [np.sin(angle_radians), np.cos(angle_radians), 0, 0],\n",
    "    [0, 0, 1, 0],\n",
    "    [0, 0, 0, 1]\n",
    "])\n",
    "\n",
    "c2w = camera_to_world_matrix\n",
    "c2w_new = c2w.reshape(16, 1)\n",
    "settings.camera_poses['camera_path'][0]['camera_to_world'] = c2w_new.tolist()\n",
    "for i in range(1, len(settings.camera_poses['camera_path'])):\n",
    "   c2w = c2w @ rotation_matrix_z\n",
    "   c2w_new = c2w.reshape(16, 1)\n",
    "   settings.camera_poses['camera_path'][i]['camera_to_world'] = c2w_new.tolist()"
   ]
  },
  {
   "cell_type": "code",
   "execution_count": 50,
   "metadata": {},
   "outputs": [],
   "source": [
    "modelcontext.visualGrounder.camera_poses = settings.camera_poses"
   ]
  },
  {
   "cell_type": "code",
   "execution_count": 51,
   "metadata": {},
   "outputs": [
    {
     "name": "stdout",
     "output_type": "stream",
     "text": [
      "picture taking process\n",
      "sub picture taking process\n"
     ]
    },
    {
     "data": {
      "text/html": [
       "<pre style=\"white-space:pre;overflow-x:auto;line-height:normal;font-family:Menlo,'DejaVu Sans Mono',consolas,'Courier New',monospace\"><span style=\"color: #008000; text-decoration-color: #008000; font-weight: bold\">Taking </span><span style=\"color: #008000; text-decoration-color: #008000; font-weight: bold\">6</span><span style=\"color: #008000; text-decoration-color: #008000; font-weight: bold\"> images... </span>\n",
       "</pre>\n"
      ],
      "text/plain": [
       "\u001b[1;32mTaking \u001b[0m\u001b[1;32m6\u001b[0m\u001b[1;32m images\u001b[0m\u001b[1;32m...\u001b[0m\u001b[1;32m \u001b[0m\n"
      ]
     },
     "metadata": {},
     "output_type": "display_data"
    },
    {
     "data": {
      "text/html": [
       "<pre style=\"white-space:pre;overflow-x:auto;line-height:normal;font-family:Menlo,'DejaVu Sans Mono',consolas,'Courier New',monospace\"><span style=\"color: #008000; text-decoration-color: #008000; font-weight: bold\">Finish taking </span><span style=\"color: #008000; text-decoration-color: #008000; font-weight: bold\">6</span><span style=\"color: #008000; text-decoration-color: #008000; font-weight: bold\"> images... </span>\n",
       "</pre>\n"
      ],
      "text/plain": [
       "\u001b[1;32mFinish taking \u001b[0m\u001b[1;32m6\u001b[0m\u001b[1;32m images\u001b[0m\u001b[1;32m...\u001b[0m\u001b[1;32m \u001b[0m\n"
      ]
     },
     "metadata": {},
     "output_type": "display_data"
    },
    {
     "data": {
      "text/plain": [
       "[ImageRef(id=0, clip_address='/workspace/nerf-grounding-chat-interface/grounder_images/clip/000.png', rgb_address='/workspace/nerf-grounding-chat-interface/grounder_images/rgb/000.png', encoding=array([[[0.39593184, 0.39593184, 0.39593184],\n",
       "         [0.3946856 , 0.3946856 , 0.3946856 ],\n",
       "         [0.39199623, 0.39199623, 0.39199623],\n",
       "         ...,\n",
       "         [0.4752297 , 0.4752297 , 0.4752297 ],\n",
       "         [0.47621298, 0.47621298, 0.47621298],\n",
       "         [0.47359684, 0.47359684, 0.47359684]],\n",
       " \n",
       "        [[0.39046374, 0.39046374, 0.39046374],\n",
       "         [0.38996115, 0.38996115, 0.38996115],\n",
       "         [0.38926718, 0.38926718, 0.38926718],\n",
       "         ...,\n",
       "         [0.47423404, 0.47423404, 0.47423404],\n",
       "         [0.47625548, 0.47625548, 0.47625548],\n",
       "         [0.47304374, 0.47304374, 0.47304374]],\n",
       " \n",
       "        [[0.38866764, 0.38866764, 0.38866764],\n",
       "         [0.38714254, 0.38714254, 0.38714254],\n",
       "         [0.38596532, 0.38596532, 0.38596532],\n",
       "         ...,\n",
       "         [0.4720834 , 0.4720834 , 0.4720834 ],\n",
       "         [0.47011653, 0.47011653, 0.47011653],\n",
       "         [0.46810445, 0.46810445, 0.46810445]],\n",
       " \n",
       "        ...,\n",
       " \n",
       "        [[0.45650235, 0.45650235, 0.45650235],\n",
       "         [0.45573354, 0.45573354, 0.45573354],\n",
       "         [0.45459116, 0.45459116, 0.45459116],\n",
       "         ...,\n",
       "         [0.43539828, 0.43539828, 0.43539828],\n",
       "         [0.43716714, 0.43716714, 0.43716714],\n",
       "         [0.43583927, 0.43583927, 0.43583927]],\n",
       " \n",
       "        [[0.45692426, 0.45692426, 0.45692426],\n",
       "         [0.45542985, 0.45542985, 0.45542985],\n",
       "         [0.45491806, 0.45491806, 0.45491806],\n",
       "         ...,\n",
       "         [0.43294138, 0.43294138, 0.43294138],\n",
       "         [0.4324843 , 0.4324843 , 0.4324843 ],\n",
       "         [0.43255046, 0.43255046, 0.43255046]],\n",
       " \n",
       "        [[0.45667362, 0.45667362, 0.45667362],\n",
       "         [0.4553943 , 0.4553943 , 0.4553943 ],\n",
       "         [0.45501196, 0.45501196, 0.45501196],\n",
       "         ...,\n",
       "         [0.4368626 , 0.4368626 , 0.4368626 ],\n",
       "         [0.43652806, 0.43652806, 0.43652806],\n",
       "         [0.432478  , 0.432478  , 0.432478  ]]], dtype=float32), raw_image=None),\n",
       " ImageRef(id=1, clip_address='/workspace/nerf-grounding-chat-interface/grounder_images/clip/001.png', rgb_address='/workspace/nerf-grounding-chat-interface/grounder_images/rgb/001.png', encoding=array([[[0.47913507, 0.47913507, 0.47913507],\n",
       "         [0.47978193, 0.47978193, 0.47978193],\n",
       "         [0.4803376 , 0.4803376 , 0.4803376 ],\n",
       "         ...,\n",
       "         [0.40485403, 0.40485403, 0.40485403],\n",
       "         [0.40572292, 0.40572292, 0.40572292],\n",
       "         [0.40643877, 0.40643877, 0.40643877]],\n",
       " \n",
       "        [[0.47802588, 0.47802588, 0.47802588],\n",
       "         [0.47851092, 0.47851092, 0.47851092],\n",
       "         [0.4789903 , 0.4789903 , 0.4789903 ],\n",
       "         ...,\n",
       "         [0.4036985 , 0.4036985 , 0.4036985 ],\n",
       "         [0.4035293 , 0.4035293 , 0.4035293 ],\n",
       "         [0.40493086, 0.40493086, 0.40493086]],\n",
       " \n",
       "        [[0.47682592, 0.47682592, 0.47682592],\n",
       "         [0.477202  , 0.477202  , 0.477202  ],\n",
       "         [0.47761458, 0.47761458, 0.47761458],\n",
       "         ...,\n",
       "         [0.40374267, 0.40374267, 0.40374267],\n",
       "         [0.40518928, 0.40518928, 0.40518928],\n",
       "         [0.40658394, 0.40658394, 0.40658394]],\n",
       " \n",
       "        ...,\n",
       " \n",
       "        [[0.4452227 , 0.4452227 , 0.4452227 ],\n",
       "         [0.44407746, 0.44407746, 0.44407746],\n",
       "         [0.44324663, 0.44324663, 0.44324663],\n",
       "         ...,\n",
       "         [0.45843634, 0.45843634, 0.45843634],\n",
       "         [0.46125844, 0.46125844, 0.46125844],\n",
       "         [0.4632113 , 0.4632113 , 0.4632113 ]],\n",
       " \n",
       "        [[0.4411481 , 0.4411481 , 0.4411481 ],\n",
       "         [0.44126707, 0.44126707, 0.44126707],\n",
       "         [0.44069946, 0.44069946, 0.44069946],\n",
       "         ...,\n",
       "         [0.46173212, 0.46173212, 0.46173212],\n",
       "         [0.4617774 , 0.4617774 , 0.4617774 ],\n",
       "         [0.46234533, 0.46234533, 0.46234533]],\n",
       " \n",
       "        [[0.44371784, 0.44371784, 0.44371784],\n",
       "         [0.44311714, 0.44311714, 0.44311714],\n",
       "         [0.44359258, 0.44359258, 0.44359258],\n",
       "         ...,\n",
       "         [0.45979404, 0.45979404, 0.45979404],\n",
       "         [0.46044147, 0.46044147, 0.46044147],\n",
       "         [0.46463534, 0.46463534, 0.46463534]]], dtype=float32), raw_image=None),\n",
       " ImageRef(id=2, clip_address='/workspace/nerf-grounding-chat-interface/grounder_images/clip/002.png', rgb_address='/workspace/nerf-grounding-chat-interface/grounder_images/rgb/002.png', encoding=array([[[0.47020876, 0.47020876, 0.47020876],\n",
       "         [0.4664398 , 0.4664398 , 0.4664398 ],\n",
       "         [0.46458733, 0.46458733, 0.46458733],\n",
       "         ...,\n",
       "         [0.41293588, 0.41293588, 0.41293588],\n",
       "         [0.41299352, 0.41299352, 0.41299352],\n",
       "         [0.41302773, 0.41302773, 0.41302773]],\n",
       " \n",
       "        [[0.4568851 , 0.4568851 , 0.4568851 ],\n",
       "         [0.45878917, 0.45878917, 0.45878917],\n",
       "         [0.465369  , 0.465369  , 0.465369  ],\n",
       "         ...,\n",
       "         [0.41105416, 0.41105416, 0.41105416],\n",
       "         [0.41106492, 0.41106492, 0.41106492],\n",
       "         [0.41143978, 0.41143978, 0.41143978]],\n",
       " \n",
       "        [[0.45769292, 0.45769292, 0.45769292],\n",
       "         [0.45988187, 0.45988187, 0.45988187],\n",
       "         [0.45984566, 0.45984566, 0.45984566],\n",
       "         ...,\n",
       "         [0.40928695, 0.40928695, 0.40928695],\n",
       "         [0.40921777, 0.40921777, 0.40921777],\n",
       "         [0.4090052 , 0.4090052 , 0.4090052 ]],\n",
       " \n",
       "        ...,\n",
       " \n",
       "        [[0.44028056, 0.44028056, 0.44028056],\n",
       "         [0.43862575, 0.43862575, 0.43862575],\n",
       "         [0.43724847, 0.43724847, 0.43724847],\n",
       "         ...,\n",
       "         [0.49608728, 0.49608728, 0.49608728],\n",
       "         [0.493377  , 0.493377  , 0.493377  ],\n",
       "         [0.49928334, 0.49928334, 0.49928334]],\n",
       " \n",
       "        [[0.43807635, 0.43807635, 0.43807635],\n",
       "         [0.43880722, 0.43880722, 0.43880722],\n",
       "         [0.43578482, 0.43578482, 0.43578482],\n",
       "         ...,\n",
       "         [0.500281  , 0.500281  , 0.500281  ],\n",
       "         [0.4953562 , 0.4953562 , 0.4953562 ],\n",
       "         [0.4969015 , 0.4969015 , 0.4969015 ]],\n",
       " \n",
       "        [[0.4360613 , 0.4360613 , 0.4360613 ],\n",
       "         [0.4358373 , 0.4358373 , 0.4358373 ],\n",
       "         [0.43429357, 0.43429357, 0.43429357],\n",
       "         ...,\n",
       "         [0.4999229 , 0.4999229 , 0.4999229 ],\n",
       "         [0.50155604, 0.50155604, 0.50155604],\n",
       "         [0.4992299 , 0.4992299 , 0.4992299 ]]], dtype=float32), raw_image=None),\n",
       " ImageRef(id=3, clip_address='/workspace/nerf-grounding-chat-interface/grounder_images/clip/003.png', rgb_address='/workspace/nerf-grounding-chat-interface/grounder_images/rgb/003.png', encoding=array([[[0.432478  , 0.432478  , 0.432478  ],\n",
       "         [0.43652806, 0.43652806, 0.43652806],\n",
       "         [0.4368626 , 0.4368626 , 0.4368626 ],\n",
       "         ...,\n",
       "         [0.45501196, 0.45501196, 0.45501196],\n",
       "         [0.4553943 , 0.4553943 , 0.4553943 ],\n",
       "         [0.45667362, 0.45667362, 0.45667362]],\n",
       " \n",
       "        [[0.43255046, 0.43255046, 0.43255046],\n",
       "         [0.4324843 , 0.4324843 , 0.4324843 ],\n",
       "         [0.43294138, 0.43294138, 0.43294138],\n",
       "         ...,\n",
       "         [0.45491806, 0.45491806, 0.45491806],\n",
       "         [0.45542985, 0.45542985, 0.45542985],\n",
       "         [0.45692426, 0.45692426, 0.45692426]],\n",
       " \n",
       "        [[0.43583927, 0.43583927, 0.43583927],\n",
       "         [0.43716714, 0.43716714, 0.43716714],\n",
       "         [0.43539828, 0.43539828, 0.43539828],\n",
       "         ...,\n",
       "         [0.45459116, 0.45459116, 0.45459116],\n",
       "         [0.45573354, 0.45573354, 0.45573354],\n",
       "         [0.45650235, 0.45650235, 0.45650235]],\n",
       " \n",
       "        ...,\n",
       " \n",
       "        [[0.46810445, 0.46810445, 0.46810445],\n",
       "         [0.47011653, 0.47011653, 0.47011653],\n",
       "         [0.4720834 , 0.4720834 , 0.4720834 ],\n",
       "         ...,\n",
       "         [0.38596532, 0.38596532, 0.38596532],\n",
       "         [0.38714254, 0.38714254, 0.38714254],\n",
       "         [0.38866764, 0.38866764, 0.38866764]],\n",
       " \n",
       "        [[0.47304374, 0.47304374, 0.47304374],\n",
       "         [0.47625548, 0.47625548, 0.47625548],\n",
       "         [0.47423404, 0.47423404, 0.47423404],\n",
       "         ...,\n",
       "         [0.38926718, 0.38926718, 0.38926718],\n",
       "         [0.38996115, 0.38996115, 0.38996115],\n",
       "         [0.39046374, 0.39046374, 0.39046374]],\n",
       " \n",
       "        [[0.47359684, 0.47359684, 0.47359684],\n",
       "         [0.47621298, 0.47621298, 0.47621298],\n",
       "         [0.4752297 , 0.4752297 , 0.4752297 ],\n",
       "         ...,\n",
       "         [0.39199623, 0.39199623, 0.39199623],\n",
       "         [0.3946856 , 0.3946856 , 0.3946856 ],\n",
       "         [0.39593184, 0.39593184, 0.39593184]]], dtype=float32), raw_image=None),\n",
       " ImageRef(id=4, clip_address='/workspace/nerf-grounding-chat-interface/grounder_images/clip/004.png', rgb_address='/workspace/nerf-grounding-chat-interface/grounder_images/rgb/004.png', encoding=array([[[0.46463534, 0.46463534, 0.46463534],\n",
       "         [0.46044147, 0.46044147, 0.46044147],\n",
       "         [0.45979404, 0.45979404, 0.45979404],\n",
       "         ...,\n",
       "         [0.44359258, 0.44359258, 0.44359258],\n",
       "         [0.44311714, 0.44311714, 0.44311714],\n",
       "         [0.44371784, 0.44371784, 0.44371784]],\n",
       " \n",
       "        [[0.46234533, 0.46234533, 0.46234533],\n",
       "         [0.4617774 , 0.4617774 , 0.4617774 ],\n",
       "         [0.46173212, 0.46173212, 0.46173212],\n",
       "         ...,\n",
       "         [0.44069946, 0.44069946, 0.44069946],\n",
       "         [0.44126707, 0.44126707, 0.44126707],\n",
       "         [0.4411481 , 0.4411481 , 0.4411481 ]],\n",
       " \n",
       "        [[0.4632113 , 0.4632113 , 0.4632113 ],\n",
       "         [0.46125844, 0.46125844, 0.46125844],\n",
       "         [0.45843634, 0.45843634, 0.45843634],\n",
       "         ...,\n",
       "         [0.44324663, 0.44324663, 0.44324663],\n",
       "         [0.44407746, 0.44407746, 0.44407746],\n",
       "         [0.4452227 , 0.4452227 , 0.4452227 ]],\n",
       " \n",
       "        ...,\n",
       " \n",
       "        [[0.40658394, 0.40658394, 0.40658394],\n",
       "         [0.40518928, 0.40518928, 0.40518928],\n",
       "         [0.40374267, 0.40374267, 0.40374267],\n",
       "         ...,\n",
       "         [0.47761458, 0.47761458, 0.47761458],\n",
       "         [0.477202  , 0.477202  , 0.477202  ],\n",
       "         [0.47682592, 0.47682592, 0.47682592]],\n",
       " \n",
       "        [[0.40493086, 0.40493086, 0.40493086],\n",
       "         [0.4035293 , 0.4035293 , 0.4035293 ],\n",
       "         [0.4036985 , 0.4036985 , 0.4036985 ],\n",
       "         ...,\n",
       "         [0.4789903 , 0.4789903 , 0.4789903 ],\n",
       "         [0.47851092, 0.47851092, 0.47851092],\n",
       "         [0.47802588, 0.47802588, 0.47802588]],\n",
       " \n",
       "        [[0.40643877, 0.40643877, 0.40643877],\n",
       "         [0.40572292, 0.40572292, 0.40572292],\n",
       "         [0.40485403, 0.40485403, 0.40485403],\n",
       "         ...,\n",
       "         [0.4803376 , 0.4803376 , 0.4803376 ],\n",
       "         [0.47978193, 0.47978193, 0.47978193],\n",
       "         [0.47913507, 0.47913507, 0.47913507]]], dtype=float32), raw_image=None),\n",
       " ImageRef(id=5, clip_address='/workspace/nerf-grounding-chat-interface/grounder_images/clip/005.png', rgb_address='/workspace/nerf-grounding-chat-interface/grounder_images/rgb/005.png', encoding=array([[[0.4992299 , 0.4992299 , 0.4992299 ],\n",
       "         [0.50155604, 0.50155604, 0.50155604],\n",
       "         [0.4999229 , 0.4999229 , 0.4999229 ],\n",
       "         ...,\n",
       "         [0.43429357, 0.43429357, 0.43429357],\n",
       "         [0.4358373 , 0.4358373 , 0.4358373 ],\n",
       "         [0.4360613 , 0.4360613 , 0.4360613 ]],\n",
       " \n",
       "        [[0.4969015 , 0.4969015 , 0.4969015 ],\n",
       "         [0.4953562 , 0.4953562 , 0.4953562 ],\n",
       "         [0.500281  , 0.500281  , 0.500281  ],\n",
       "         ...,\n",
       "         [0.43578482, 0.43578482, 0.43578482],\n",
       "         [0.43880722, 0.43880722, 0.43880722],\n",
       "         [0.43807635, 0.43807635, 0.43807635]],\n",
       " \n",
       "        [[0.49928334, 0.49928334, 0.49928334],\n",
       "         [0.493377  , 0.493377  , 0.493377  ],\n",
       "         [0.49608728, 0.49608728, 0.49608728],\n",
       "         ...,\n",
       "         [0.43724847, 0.43724847, 0.43724847],\n",
       "         [0.43862575, 0.43862575, 0.43862575],\n",
       "         [0.44028056, 0.44028056, 0.44028056]],\n",
       " \n",
       "        ...,\n",
       " \n",
       "        [[0.4090052 , 0.4090052 , 0.4090052 ],\n",
       "         [0.40921777, 0.40921777, 0.40921777],\n",
       "         [0.40928695, 0.40928695, 0.40928695],\n",
       "         ...,\n",
       "         [0.45984566, 0.45984566, 0.45984566],\n",
       "         [0.45988187, 0.45988187, 0.45988187],\n",
       "         [0.45769292, 0.45769292, 0.45769292]],\n",
       " \n",
       "        [[0.41143978, 0.41143978, 0.41143978],\n",
       "         [0.41106492, 0.41106492, 0.41106492],\n",
       "         [0.41105416, 0.41105416, 0.41105416],\n",
       "         ...,\n",
       "         [0.465369  , 0.465369  , 0.465369  ],\n",
       "         [0.45878917, 0.45878917, 0.45878917],\n",
       "         [0.4568851 , 0.4568851 , 0.4568851 ]],\n",
       " \n",
       "        [[0.41302773, 0.41302773, 0.41302773],\n",
       "         [0.41299352, 0.41299352, 0.41299352],\n",
       "         [0.41293588, 0.41293588, 0.41293588],\n",
       "         ...,\n",
       "         [0.46458733, 0.46458733, 0.46458733],\n",
       "         [0.4664398 , 0.4664398 , 0.4664398 ],\n",
       "         [0.47020876, 0.47020876, 0.47020876]]], dtype=float32), raw_image=None)]"
      ]
     },
     "execution_count": 51,
     "metadata": {},
     "output_type": "execute_result"
    }
   ],
   "source": [
    "modelcontext.visualGrounder.taking_pictures()"
   ]
  },
  {
   "cell_type": "code",
   "execution_count": null,
   "metadata": {},
   "outputs": [],
   "source": []
  }
 ],
 "metadata": {
  "kernelspec": {
   "display_name": "lang-seg",
   "language": "python",
   "name": "python3"
  },
  "language_info": {
   "codemirror_mode": {
    "name": "ipython",
    "version": 3
   },
   "file_extension": ".py",
   "mimetype": "text/x-python",
   "name": "python",
   "nbconvert_exporter": "python",
   "pygments_lexer": "ipython3",
   "version": "3.10.6"
  },
  "orig_nbformat": 4
 },
 "nbformat": 4,
 "nbformat_minor": 2
}
