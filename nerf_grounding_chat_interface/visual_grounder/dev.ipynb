{
 "cells": [
  {
   "cell_type": "code",
   "execution_count": 36,
   "metadata": {},
   "outputs": [],
   "source": [
    "from setting import Settings\n",
    "import numpy as np"
   ]
  },
  {
   "cell_type": "code",
   "execution_count": 37,
   "metadata": {},
   "outputs": [],
   "source": [
    "angle_degrees = 60\n",
    "angle_radians = np.radians(angle_degrees)\n",
    "\n",
    "rotation_matrix = np.array([\n",
    "    [np.cos(angle_radians), -np.sin(angle_radians), 0, 0],\n",
    "    [np.sin(angle_radians),  np.cos(angle_radians), 0, 0],\n",
    "    [0, 0, 1, 0],\n",
    "    [0, 0, 0, 1]\n",
    "])"
   ]
  },
  {
   "cell_type": "code",
   "execution_count": 41,
   "metadata": {},
   "outputs": [],
   "source": [
    "settings = Settings()\n",
    "c2w = np.array(settings.camera_poses['camera_path'][0]['camera_to_world']).reshape(4, 4)"
   ]
  },
  {
   "cell_type": "code",
   "execution_count": 44,
   "metadata": {},
   "outputs": [
    {
     "name": "stdout",
     "output_type": "stream",
     "text": [
      "[[0.10231189425704014], [0.48911119307539097], [0.8662000445058311], [0.5058938174837787], [-0.9947523693329592], [0.050305879341026004], [0.08909007919061408], [0.0003705601201718159], [5.81053666504635e-16], [-0.8707695213499914], [0.4916914079866622], [0.3994575663738732], [0.0], [0.0], [0.0], [1.0]]\n"
     ]
    }
   ],
   "source": [
    "print(settings.camera_poses['camera_path'][3]['camera_to_world'])"
   ]
  },
  {
   "cell_type": "code",
   "execution_count": 40,
   "metadata": {},
   "outputs": [
    {
     "name": "stdout",
     "output_type": "stream",
     "text": [
      "[[-0.4747386656071242], [-0.15595089700179138], [0.8662000445058311], [0.5058938174837787], [0.4538100151974361], [-0.8866337619876163], [0.08909007919061408], [0.0003705601201718159], [0.7541085263303087], [0.43538476067499604], [0.4916914079866622], [0.3994575663738732], [0.0], [0.0], [0.0], [1.0]]\n",
      "[[-0.3724267713500839], [0.33316029607359954], [0.8662000445058311], [0.5058938174837787], [-0.540942354135523], [-0.83632788264659], [0.08909007919061408], [0.0003705601201718159], [0.754108526330309], [-0.43538476067499543], [0.4916914079866622], [0.3994575663738732], [0.0], [0.0], [0.0], [1.0]]\n",
      "[[0.10231189425704014], [0.48911119307539097], [0.8662000445058311], [0.5058938174837787], [-0.9947523693329592], [0.050305879341026004], [0.08909007919061408], [0.0003705601201718159], [5.81053666504635e-16], [-0.8707695213499914], [0.4916914079866622], [0.3994575663738732], [0.0], [0.0], [0.0], [1.0]]\n",
      "[[0.474738665607124], [0.15595089700179157], [0.8662000445058311], [0.5058938174837787], [-0.4538100151974364], [0.8866337619876159], [0.08909007919061408], [0.0003705601201718159], [-0.7541085263303082], [-0.4353847606749963], [0.4916914079866622], [0.3994575663738732], [0.0], [0.0], [0.0], [1.0]]\n",
      "[[0.372426771350084], [-0.33316029607359926], [0.8662000445058311], [0.5058938174837787], [0.5409423541355225], [0.8363278826465901], [0.08909007919061408], [0.0003705601201718159], [-0.754108526330309], [0.4353847606749948], [0.4916914079866622], [0.3994575663738732], [0.0], [0.0], [0.0], [1.0]]\n"
     ]
    }
   ],
   "source": [
    "for i in range(1, len(settings.camera_poses['camera_path'])):\n",
    "   c2w = c2w @ rotation_matrix\n",
    "   # print(c2w)\n",
    "   c2w_new = c2w.reshape(16, 1)\n",
    "   settings.camera_poses['camera_path'][i]['camera_to_world'] = c2w_new.tolist()\n",
    "   print(c2w_new.tolist())"
   ]
  },
  {
   "cell_type": "code",
   "execution_count": 35,
   "metadata": {},
   "outputs": [
    {
     "data": {
      "text/plain": [
       "[{'camera_to_world': [-0.10231189425704039,\n",
       "   -0.489111193075391,\n",
       "   0.8662000445058311,\n",
       "   0.5058938174837787,\n",
       "   0.9947523693329594,\n",
       "   -0.05030587934102655,\n",
       "   0.08909007919061408,\n",
       "   0.0003705601201718159,\n",
       "   -1.5265566588595905e-16,\n",
       "   0.8707695213499916,\n",
       "   0.4916914079866622,\n",
       "   0.3994575663738732,\n",
       "   0,\n",
       "   0,\n",
       "   0,\n",
       "   1],\n",
       "  'fov': 60,\n",
       "  'aspect': 1},\n",
       " {'camera_to_world': [[-0.4747386656071242],\n",
       "   [-0.15595089700179138],\n",
       "   [0.8662000445058311],\n",
       "   [0.5058938174837787],\n",
       "   [0.4538100151974361],\n",
       "   [-0.8866337619876163],\n",
       "   [0.08909007919061408],\n",
       "   [0.0003705601201718159],\n",
       "   [0.7541085263303087],\n",
       "   [0.43538476067499604],\n",
       "   [0.4916914079866622],\n",
       "   [0.3994575663738732],\n",
       "   [0.0],\n",
       "   [0.0],\n",
       "   [0.0],\n",
       "   [1.0]],\n",
       "  'fov': 60,\n",
       "  'aspect': 1},\n",
       " {'camera_to_world': [[-0.3724267713500839],\n",
       "   [0.33316029607359954],\n",
       "   [0.8662000445058311],\n",
       "   [0.5058938174837787],\n",
       "   [-0.540942354135523],\n",
       "   [-0.83632788264659],\n",
       "   [0.08909007919061408],\n",
       "   [0.0003705601201718159],\n",
       "   [0.754108526330309],\n",
       "   [-0.43538476067499543],\n",
       "   [0.4916914079866622],\n",
       "   [0.3994575663738732],\n",
       "   [0.0],\n",
       "   [0.0],\n",
       "   [0.0],\n",
       "   [1.0]],\n",
       "  'fov': 60,\n",
       "  'aspect': 1},\n",
       " {'camera_to_world': [[0.10231189425704014],\n",
       "   [0.48911119307539097],\n",
       "   [0.8662000445058311],\n",
       "   [0.5058938174837787],\n",
       "   [-0.9947523693329592],\n",
       "   [0.050305879341026004],\n",
       "   [0.08909007919061408],\n",
       "   [0.0003705601201718159],\n",
       "   [5.81053666504635e-16],\n",
       "   [-0.8707695213499914],\n",
       "   [0.4916914079866622],\n",
       "   [0.3994575663738732],\n",
       "   [0.0],\n",
       "   [0.0],\n",
       "   [0.0],\n",
       "   [1.0]],\n",
       "  'fov': 60,\n",
       "  'aspect': 1},\n",
       " {'camera_to_world': [[0.474738665607124],\n",
       "   [0.15595089700179157],\n",
       "   [0.8662000445058311],\n",
       "   [0.5058938174837787],\n",
       "   [-0.4538100151974364],\n",
       "   [0.8866337619876159],\n",
       "   [0.08909007919061408],\n",
       "   [0.0003705601201718159],\n",
       "   [-0.7541085263303082],\n",
       "   [-0.4353847606749963],\n",
       "   [0.4916914079866622],\n",
       "   [0.3994575663738732],\n",
       "   [0.0],\n",
       "   [0.0],\n",
       "   [0.0],\n",
       "   [1.0]],\n",
       "  'fov': 60,\n",
       "  'aspect': 1},\n",
       " {'camera_to_world': [[0.372426771350084],\n",
       "   [-0.33316029607359926],\n",
       "   [0.8662000445058311],\n",
       "   [0.5058938174837787],\n",
       "   [0.5409423541355225],\n",
       "   [0.8363278826465901],\n",
       "   [0.08909007919061408],\n",
       "   [0.0003705601201718159],\n",
       "   [-0.754108526330309],\n",
       "   [0.4353847606749948],\n",
       "   [0.4916914079866622],\n",
       "   [0.3994575663738732],\n",
       "   [0.0],\n",
       "   [0.0],\n",
       "   [0.0],\n",
       "   [1.0]],\n",
       "  'fov': 60,\n",
       "  'aspect': 1}]"
      ]
     },
     "execution_count": 35,
     "metadata": {},
     "output_type": "execute_result"
    }
   ],
   "source": [
    "settings.camera_poses['camera_path']"
   ]
  },
  {
   "cell_type": "code",
   "execution_count": 46,
   "metadata": {},
   "outputs": [
    {
     "name": "stdout",
     "output_type": "stream",
     "text": [
      "1915868460001.json\n"
     ]
    }
   ],
   "source": [
    "import os\n",
    "\n",
    "# Replace 'your_directory_path' with the actual path to the directory\n",
    "directory_path = r'/workspace/inthewild/bigexample/Apr7at4-46PM-poly/keyframes/corrected_cameras'\n",
    "\n",
    "# List all files in the directory\n",
    "all_files = [f for f in os.listdir(directory_path) if os.path.isfile(os.path.join(directory_path, f))]\n",
    "\n",
    "# Sort the files alphabetically\n",
    "all_files.sort()\n",
    "\n",
    "# Get the first file in the sorted list\n",
    "first_file = all_files[0] if all_files else None\n",
    "\n",
    "# Print the first file\n",
    "print(first_file)"
   ]
  },
  {
   "cell_type": "code",
   "execution_count": 47,
   "metadata": {},
   "outputs": [
    {
     "name": "stdout",
     "output_type": "stream",
     "text": [
      "{'blur_score': 177.5570526123047, 'cx': 514.4260864257812, 'cy': 383.7248229980469, 'fx': 770.0746239830255, 'fy': 770.0746239830255, 'height': 768, 'manual_keyframe': False, 'neighbors': [1915954985708, 1916188352730, 1916189386359, 1915954518908, 1916187685869, 1915955719258, 1915871844385, 1915874045070, 1915874195115, 1915913340180], 't_00': -0.032949190586805344, 't_01': 0.9902731776237488, 't_02': -0.13517914712429047, 't_03': -0.09575456380844116, 't_10': -0.9475382566452026, 't_11': 0.012074971571564674, 't_12': 0.3194141983985901, 't_13': -0.0339953750371933, 't_20': 0.3179395794868469, 't_21': 0.13861185312271118, 't_22': 0.9379238486289978, 't_23': 0.2467084676027298, 'timestamp': 1915868460001, 'width': 1024}\n"
     ]
    }
   ],
   "source": [
    "import json\n",
    "\n",
    "file_path = directory_path + '/' + first_file\n",
    "# Replace 'file_path.json' with the actual path to your JSON file\n",
    "with open(file_path, 'r') as file:\n",
    "    data = json.load(file)\n",
    "\n",
    "# Now, 'data' contains the contents of the JSON file as a Python dictionary\n",
    "print(data)"
   ]
  },
  {
   "cell_type": "code",
   "execution_count": 4,
   "metadata": {},
   "outputs": [
    {
     "data": {
      "text/plain": [
       "'\\n| 1 0  0 0 |   # X-axis\\n| 0 0 -1 0 |   # Y-axis\\n| 0 1  0 0 |   # Z-axis\\n| 0 0  0 1 |   # Position (origin)\\n'"
      ]
     },
     "execution_count": 4,
     "metadata": {},
     "output_type": "execute_result"
    }
   ],
   "source": [
    "'''\n",
    "| 1 0  0 0 |   # X-axis\n",
    "| 0 0 -1 0 |   # Y-axis\n",
    "| 0 1  0 0 |   # Z-axis\n",
    "| 0 0  0 1 |   # Position (origin)\n",
    "'''"
   ]
  },
  {
   "cell_type": "code",
   "execution_count": 48,
   "metadata": {},
   "outputs": [
    {
     "name": "stdout",
     "output_type": "stream",
     "text": [
      "t_00\n",
      "-0.032949190586805344\n",
      "t_01\n",
      "0.9902731776237488\n",
      "t_02\n",
      "-0.13517914712429047\n",
      "t_03\n",
      "-0.09575456380844116\n",
      "t_10\n",
      "-0.9475382566452026\n",
      "t_11\n",
      "0.012074971571564674\n",
      "t_12\n",
      "0.3194141983985901\n",
      "t_13\n",
      "-0.0339953750371933\n",
      "t_20\n",
      "0.3179395794868469\n",
      "t_21\n",
      "0.13861185312271118\n",
      "t_22\n",
      "0.9379238486289978\n",
      "t_23\n",
      "0.2467084676027298\n"
     ]
    }
   ],
   "source": [
    "import numpy as np\n",
    "\n",
    "camera_to_world_matrix = np.zeros((4, 4))\n",
    "\n",
    "prefix = 't_'\n",
    "\n",
    "for i in range(3):\n",
    "    for j in range(4):\n",
    "      print(prefix + str(i) + str(j))\n",
    "      print(data[prefix + str(i) + str(j)])\n",
    "      camera_to_world_matrix[i][j] = data[prefix + str(i) + str(j)]\n",
    "\n",
    "# camera_to_world_matrix[2][1] = 0\n",
    "camera_to_world_matrix[3][3] = 1"
   ]
  },
  {
   "cell_type": "code",
   "execution_count": 17,
   "metadata": {},
   "outputs": [],
   "source": [
    "import numpy as np\n",
    "\n",
    "camera_to_world_matrix = np.zeros((4, 4))\n",
    "camera_to_world_matrix[0][0] = 1\n",
    "camera_to_world_matrix[1][2] = -1\n",
    "camera_to_world_matrix[2][1] = 1\n",
    "camera_to_world_matrix[3][3] = 1\n",
    "\n",
    "prefix = 't_'\n",
    "\n",
    "for i in range(3):\n",
    "   #  for j in range(3):\n",
    "      # print(prefix + str(i) + str(j))\n",
    "      # print(data[prefix + str(i) + str(j)])\n",
    "   camera_to_world_matrix[i][j] = data[prefix + str(i) + str(3)]\n"
   ]
  },
  {
   "cell_type": "code",
   "execution_count": 49,
   "metadata": {},
   "outputs": [
    {
     "name": "stdout",
     "output_type": "stream",
     "text": [
      "[[-0.03294919  0.99027318 -0.13517915 -0.09575456]\n",
      " [-0.94753826  0.01207497  0.3194142  -0.03399538]\n",
      " [ 0.31793958  0.13861185  0.93792385  0.24670847]\n",
      " [ 0.          0.          0.          1.        ]]\n"
     ]
    }
   ],
   "source": [
    "print(camera_to_world_matrix)"
   ]
  },
  {
   "cell_type": "code",
   "execution_count": 7,
   "metadata": {},
   "outputs": [],
   "source": [
    "from nerf_grounding_chat_interface.chat.model_context import ModelContextManager"
   ]
  },
  {
   "cell_type": "code",
   "execution_count": 8,
   "metadata": {},
   "outputs": [
    {
     "name": "stdout",
     "output_type": "stream",
     "text": [
      "load_config:  /workspace/inthewild/outputs/bigexample/lerf/2023-04-22_022439/config.yml\n",
      "output_path:  /workspace/nerf-grounding-chat-interface/grounder_images/results\n",
      "Initialize Blip2Captioner\n",
      "\u001b[32;20m[2023-05-09 21:28:44,324] INFO root [__init__] [blip2_t5.py:69] - freeze vision encoder\u001b[0m\n"
     ]
    },
    {
     "data": {
      "application/vnd.jupyter.widget-view+json": {
       "model_id": "515f8869b1744a31a3b8a5986321d701",
       "version_major": 2,
       "version_minor": 0
      },
      "text/plain": [
       "Loading checkpoint shards:   0%|          | 0/5 [00:00<?, ?it/s]"
      ]
     },
     "metadata": {},
     "output_type": "display_data"
    },
    {
     "name": "stdout",
     "output_type": "stream",
     "text": [
      "\u001b[32;20m[2023-05-09 21:30:18,538] INFO root [load_from_pretrained] [blip2.py:96] - load checkpoint from https://storage.googleapis.com/sfr-vision-language-research/LAVIS/models/BLIP2/blip2_pretrained_flant5xxl.pth\u001b[0m\n",
      "Initialize LERF pipeline\n",
      "\u001b[32;20m[2023-05-09 21:30:24,120] INFO torch.distributed.nn.jit.instantiator [<module>] [instantiator.py:21] - Created a temporary directory at /tmp/tmp3vyi754w\u001b[0m\n",
      "\u001b[32;20m[2023-05-09 21:30:24,121] INFO torch.distributed.nn.jit.instantiator [_write] [instantiator.py:76] - Writing /tmp/tmp3vyi754w/_remote_module_non_scriptable.py\u001b[0m\n",
      "\u001b[32;20m[2023-05-09 21:30:24,494] INFO root [create_model] [factory.py:158] - Loaded ViT-B-16 model config.\u001b[0m\n",
      "\u001b[32;20m[2023-05-09 21:30:25,656] INFO root [create_model] [factory.py:206] - Loading pretrained ViT-B-16 weights (laion2b_s34b_b88k).\u001b[0m\n"
     ]
    },
    {
     "data": {
      "text/html": [
       "<pre style=\"white-space:pre;overflow-x:auto;line-height:normal;font-family:Menlo,'DejaVu Sans Mono',consolas,'Courier New',monospace\"><span style=\"color: #7fbfbf; text-decoration-color: #7fbfbf\">[21:30:26] </span>Auto image downscale factor of <span style=\"color: #008080; text-decoration-color: #008080; font-weight: bold\">1</span>                                                 <a href=\"file:///workspace/nerfstudio/nerfstudio/data/dataparsers/nerfstudio_dataparser.py\" target=\"_blank\"><span style=\"color: #7f7f7f; text-decoration-color: #7f7f7f\">nerfstudio_dataparser.py</span></a><span style=\"color: #7f7f7f; text-decoration-color: #7f7f7f\">:</span><a href=\"file:///workspace/nerfstudio/nerfstudio/data/dataparsers/nerfstudio_dataparser.py#339\" target=\"_blank\"><span style=\"color: #7f7f7f; text-decoration-color: #7f7f7f\">339</span></a>\n",
       "</pre>\n"
      ],
      "text/plain": [
       "\u001b[2;36m[21:30:26]\u001b[0m\u001b[2;36m \u001b[0mAuto image downscale factor of \u001b[1;36m1\u001b[0m                                                 \u001b]8;id=856238;file:///workspace/nerfstudio/nerfstudio/data/dataparsers/nerfstudio_dataparser.py\u001b\\\u001b[2mnerfstudio_dataparser.py\u001b[0m\u001b]8;;\u001b\\\u001b[2m:\u001b[0m\u001b]8;id=837860;file:///workspace/nerfstudio/nerfstudio/data/dataparsers/nerfstudio_dataparser.py#339\u001b\\\u001b[2m339\u001b[0m\u001b]8;;\u001b\\\n"
      ]
     },
     "metadata": {},
     "output_type": "display_data"
    },
    {
     "data": {
      "text/html": [
       "<pre style=\"white-space:pre;overflow-x:auto;line-height:normal;font-family:Menlo,'DejaVu Sans Mono',consolas,'Courier New',monospace\"><span style=\"color: #7fbfbf; text-decoration-color: #7fbfbf\">           </span>Skipping <span style=\"color: #008080; text-decoration-color: #008080; font-weight: bold\">0</span> files in dataset split train.                                         <a href=\"file:///workspace/nerfstudio/nerfstudio/data/dataparsers/nerfstudio_dataparser.py\" target=\"_blank\"><span style=\"color: #7f7f7f; text-decoration-color: #7f7f7f\">nerfstudio_dataparser.py</span></a><span style=\"color: #7f7f7f; text-decoration-color: #7f7f7f\">:</span><a href=\"file:///workspace/nerfstudio/nerfstudio/data/dataparsers/nerfstudio_dataparser.py#167\" target=\"_blank\"><span style=\"color: #7f7f7f; text-decoration-color: #7f7f7f\">167</span></a>\n",
       "</pre>\n"
      ],
      "text/plain": [
       "\u001b[2;36m          \u001b[0m\u001b[2;36m \u001b[0mSkipping \u001b[1;36m0\u001b[0m files in dataset split train.                                         \u001b]8;id=243444;file:///workspace/nerfstudio/nerfstudio/data/dataparsers/nerfstudio_dataparser.py\u001b\\\u001b[2mnerfstudio_dataparser.py\u001b[0m\u001b]8;;\u001b\\\u001b[2m:\u001b[0m\u001b]8;id=142123;file:///workspace/nerfstudio/nerfstudio/data/dataparsers/nerfstudio_dataparser.py#167\u001b\\\u001b[2m167\u001b[0m\u001b]8;;\u001b\\\n"
      ]
     },
     "metadata": {},
     "output_type": "display_data"
    },
    {
     "data": {
      "text/html": [
       "<pre style=\"white-space:pre;overflow-x:auto;line-height:normal;font-family:Menlo,'DejaVu Sans Mono',consolas,'Courier New',monospace\"><span style=\"color: #7fbfbf; text-decoration-color: #7fbfbf\">           </span><span style=\"color: #808000; text-decoration-color: #808000\"> Dataset is overriding orientation method to none</span>                                <a href=\"file:///workspace/nerfstudio/nerfstudio/data/dataparsers/nerfstudio_dataparser.py\" target=\"_blank\"><span style=\"color: #7f7f7f; text-decoration-color: #7f7f7f\">nerfstudio_dataparser.py</span></a><span style=\"color: #7f7f7f; text-decoration-color: #7f7f7f\">:</span><a href=\"file:///workspace/nerfstudio/nerfstudio/data/dataparsers/nerfstudio_dataparser.py#220\" target=\"_blank\"><span style=\"color: #7f7f7f; text-decoration-color: #7f7f7f\">220</span></a>\n",
       "</pre>\n"
      ],
      "text/plain": [
       "\u001b[2;36m          \u001b[0m\u001b[2;36m \u001b[0m\u001b[33m Dataset is overriding orientation method to none\u001b[0m                                \u001b]8;id=772974;file:///workspace/nerfstudio/nerfstudio/data/dataparsers/nerfstudio_dataparser.py\u001b\\\u001b[2mnerfstudio_dataparser.py\u001b[0m\u001b]8;;\u001b\\\u001b[2m:\u001b[0m\u001b]8;id=37141;file:///workspace/nerfstudio/nerfstudio/data/dataparsers/nerfstudio_dataparser.py#220\u001b\\\u001b[2m220\u001b[0m\u001b]8;;\u001b\\\n"
      ]
     },
     "metadata": {},
     "output_type": "display_data"
    },
    {
     "data": {
      "text/html": [
       "<pre style=\"white-space:pre;overflow-x:auto;line-height:normal;font-family:Menlo,'DejaVu Sans Mono',consolas,'Courier New',monospace\"><span style=\"color: #7fbfbf; text-decoration-color: #7fbfbf\">           </span>Skipping <span style=\"color: #008080; text-decoration-color: #008080; font-weight: bold\">0</span> files in dataset split test.                                          <a href=\"file:///workspace/nerfstudio/nerfstudio/data/dataparsers/nerfstudio_dataparser.py\" target=\"_blank\"><span style=\"color: #7f7f7f; text-decoration-color: #7f7f7f\">nerfstudio_dataparser.py</span></a><span style=\"color: #7f7f7f; text-decoration-color: #7f7f7f\">:</span><a href=\"file:///workspace/nerfstudio/nerfstudio/data/dataparsers/nerfstudio_dataparser.py#167\" target=\"_blank\"><span style=\"color: #7f7f7f; text-decoration-color: #7f7f7f\">167</span></a>\n",
       "</pre>\n"
      ],
      "text/plain": [
       "\u001b[2;36m          \u001b[0m\u001b[2;36m \u001b[0mSkipping \u001b[1;36m0\u001b[0m files in dataset split test.                                          \u001b]8;id=54570;file:///workspace/nerfstudio/nerfstudio/data/dataparsers/nerfstudio_dataparser.py\u001b\\\u001b[2mnerfstudio_dataparser.py\u001b[0m\u001b]8;;\u001b\\\u001b[2m:\u001b[0m\u001b]8;id=941192;file:///workspace/nerfstudio/nerfstudio/data/dataparsers/nerfstudio_dataparser.py#167\u001b\\\u001b[2m167\u001b[0m\u001b]8;;\u001b\\\n"
      ]
     },
     "metadata": {},
     "output_type": "display_data"
    },
    {
     "data": {
      "text/html": [
       "<pre style=\"white-space:pre;overflow-x:auto;line-height:normal;font-family:Menlo,'DejaVu Sans Mono',consolas,'Courier New',monospace\"><span style=\"color: #7fbfbf; text-decoration-color: #7fbfbf\">           </span><span style=\"color: #808000; text-decoration-color: #808000\"> Dataset is overriding orientation method to none</span>                                <a href=\"file:///workspace/nerfstudio/nerfstudio/data/dataparsers/nerfstudio_dataparser.py\" target=\"_blank\"><span style=\"color: #7f7f7f; text-decoration-color: #7f7f7f\">nerfstudio_dataparser.py</span></a><span style=\"color: #7f7f7f; text-decoration-color: #7f7f7f\">:</span><a href=\"file:///workspace/nerfstudio/nerfstudio/data/dataparsers/nerfstudio_dataparser.py#220\" target=\"_blank\"><span style=\"color: #7f7f7f; text-decoration-color: #7f7f7f\">220</span></a>\n",
       "</pre>\n"
      ],
      "text/plain": [
       "\u001b[2;36m          \u001b[0m\u001b[2;36m \u001b[0m\u001b[33m Dataset is overriding orientation method to none\u001b[0m                                \u001b]8;id=513419;file:///workspace/nerfstudio/nerfstudio/data/dataparsers/nerfstudio_dataparser.py\u001b\\\u001b[2mnerfstudio_dataparser.py\u001b[0m\u001b]8;;\u001b\\\u001b[2m:\u001b[0m\u001b]8;id=398635;file:///workspace/nerfstudio/nerfstudio/data/dataparsers/nerfstudio_dataparser.py#220\u001b\\\u001b[2m220\u001b[0m\u001b]8;;\u001b\\\n"
      ]
     },
     "metadata": {},
     "output_type": "display_data"
    },
    {
     "data": {
      "text/html": [
       "<pre style=\"white-space:pre;overflow-x:auto;line-height:normal;font-family:Menlo,'DejaVu Sans Mono',consolas,'Courier New',monospace\">Setting up training dataset<span style=\"color: #808000; text-decoration-color: #808000\">...</span>\n",
       "</pre>\n"
      ],
      "text/plain": [
       "Setting up training dataset\u001b[33m...\u001b[0m\n"
      ]
     },
     "metadata": {},
     "output_type": "display_data"
    },
    {
     "data": {
      "text/html": [
       "<pre style=\"white-space:pre;overflow-x:auto;line-height:normal;font-family:Menlo,'DejaVu Sans Mono',consolas,'Courier New',monospace\">Caching all <span style=\"color: #008080; text-decoration-color: #008080; font-weight: bold\">488</span> images.\n",
       "</pre>\n"
      ],
      "text/plain": [
       "Caching all \u001b[1;36m488\u001b[0m images.\n"
      ]
     },
     "metadata": {},
     "output_type": "display_data"
    },
    {
     "data": {
      "application/vnd.jupyter.widget-view+json": {
       "model_id": "364083adae06437f881eaba3afb56b4d",
       "version_major": 2,
       "version_minor": 0
      },
      "text/plain": [
       "Output()"
      ]
     },
     "metadata": {},
     "output_type": "display_data"
    },
    {
     "data": {
      "text/html": [
       "<pre style=\"white-space:pre;overflow-x:auto;line-height:normal;font-family:Menlo,'DejaVu Sans Mono',consolas,'Courier New',monospace\"></pre>\n"
      ],
      "text/plain": []
     },
     "metadata": {},
     "output_type": "display_data"
    },
    {
     "data": {
      "text/html": [
       "<pre style=\"white-space:pre;overflow-x:auto;line-height:normal;font-family:Menlo,'DejaVu Sans Mono',consolas,'Courier New',monospace\">\n",
       "</pre>\n"
      ],
      "text/plain": [
       "\n"
      ]
     },
     "metadata": {},
     "output_type": "display_data"
    },
    {
     "data": {
      "text/html": [
       "<pre style=\"white-space:pre;overflow-x:auto;line-height:normal;font-family:Menlo,'DejaVu Sans Mono',consolas,'Courier New',monospace\">Setting up evaluation dataset<span style=\"color: #808000; text-decoration-color: #808000\">...</span>\n",
       "</pre>\n"
      ],
      "text/plain": [
       "Setting up evaluation dataset\u001b[33m...\u001b[0m\n"
      ]
     },
     "metadata": {},
     "output_type": "display_data"
    },
    {
     "data": {
      "text/html": [
       "<pre style=\"white-space:pre;overflow-x:auto;line-height:normal;font-family:Menlo,'DejaVu Sans Mono',consolas,'Courier New',monospace\">Caching all <span style=\"color: #008080; text-decoration-color: #008080; font-weight: bold\">4</span> images.\n",
       "</pre>\n"
      ],
      "text/plain": [
       "Caching all \u001b[1;36m4\u001b[0m images.\n"
      ]
     },
     "metadata": {},
     "output_type": "display_data"
    },
    {
     "data": {
      "application/vnd.jupyter.widget-view+json": {
       "model_id": "21e6383338ab4ad1b681994229243544",
       "version_major": 2,
       "version_minor": 0
      },
      "text/plain": [
       "Output()"
      ]
     },
     "metadata": {},
     "output_type": "display_data"
    },
    {
     "data": {
      "text/html": [
       "<pre style=\"white-space:pre;overflow-x:auto;line-height:normal;font-family:Menlo,'DejaVu Sans Mono',consolas,'Courier New',monospace\"></pre>\n"
      ],
      "text/plain": []
     },
     "metadata": {},
     "output_type": "display_data"
    },
    {
     "data": {
      "text/html": [
       "<pre style=\"white-space:pre;overflow-x:auto;line-height:normal;font-family:Menlo,'DejaVu Sans Mono',consolas,'Courier New',monospace\">\n",
       "</pre>\n"
      ],
      "text/plain": [
       "\n"
      ]
     },
     "metadata": {},
     "output_type": "display_data"
    },
    {
     "name": "stderr",
     "output_type": "stream",
     "text": [
      "Scales: 100%|██████████| 7/7 [00:00<00:00, 27.65it/s]\n"
     ]
    },
    {
     "data": {
      "text/html": [
       "<pre style=\"white-space:pre;overflow-x:auto;line-height:normal;font-family:Menlo,'DejaVu Sans Mono',consolas,'Courier New',monospace\">Loading latest checkpoint from load_dir\n",
       "</pre>\n"
      ],
      "text/plain": [
       "Loading latest checkpoint from load_dir\n"
      ]
     },
     "metadata": {},
     "output_type": "display_data"
    },
    {
     "data": {
      "text/html": [
       "<pre style=\"white-space:pre;overflow-x:auto;line-height:normal;font-family:Menlo,'DejaVu Sans Mono',consolas,'Courier New',monospace\">✅ Done loading checkpoint from \n",
       "<span style=\"color: #800080; text-decoration-color: #800080\">/workspace/inthewild/outputs/bigexample/lerf/2023-04-22_022439/nerfstudio_models/</span><span style=\"color: #ff00ff; text-decoration-color: #ff00ff\">step-000020000.ckpt</span>\n",
       "</pre>\n"
      ],
      "text/plain": [
       "✅ Done loading checkpoint from \n",
       "\u001b[35m/workspace/inthewild/outputs/bigexample/lerf/2023-04-22_022439/nerfstudio_models/\u001b[0m\u001b[95mstep-000020000.ckpt\u001b[0m\n"
      ]
     },
     "metadata": {},
     "output_type": "display_data"
    },
    {
     "name": "stdout",
     "output_type": "stream",
     "text": [
      "Initialize visualGrounder\n"
     ]
    }
   ],
   "source": [
    "modelcontext = ModelContextManager.get_model_context()"
   ]
  },
  {
   "cell_type": "code",
   "execution_count": 50,
   "metadata": {},
   "outputs": [],
   "source": [
    "from settings import Settings\n",
    "\n",
    "settings = Settings()\n",
    "\n",
    "camera_pose_preset = settings.camera_poses "
   ]
  },
  {
   "cell_type": "code",
   "execution_count": 51,
   "metadata": {},
   "outputs": [],
   "source": [
    "def rotate_x(angle_degrees, c2w):\n",
    "   angle_radians = np.radians(angle_degrees)\n",
    "   rotation_matrix = np.array([\n",
    "      [1, 0, 0, 0],\n",
    "      [0, np.cos(angle_radians), -np.sin(angle_radians), 0],\n",
    "      [0, np.sin(angle_radians),  np.cos(angle_radians), 0],\n",
    "      [0, 0, 0, 1]\n",
    "   ])\n",
    "   return c2w @ rotation_matrix\n",
    "\n",
    "def rotate_y(angle_degrees, c2w):\n",
    "   angle_radians = np.radians(angle_degrees)\n",
    "   rotation_matrix = np.array([\n",
    "      [np.cos(angle_radians), 0, np.sin(angle_radians), 0],\n",
    "      [0, 1, 0, 0],\n",
    "      [-np.sin(angle_radians), 0, np.cos(angle_radians), 0],\n",
    "      [0, 0, 0, 1]\n",
    "   ])\n",
    "   return c2w @ rotation_matrix\n",
    "\n",
    "def rotate_z(angle_degrees, c2w):\n",
    "   angle_radians = np.radians(angle_degrees)\n",
    "   rotation_matrix = np.array([\n",
    "      [np.cos(angle_radians), -np.sin(angle_radians), 0, 0],\n",
    "      [np.sin(angle_radians),  np.cos(angle_radians), 0, 0],\n",
    "      [0, 0, 1, 0],\n",
    "      [0, 0, 0, 1]\n",
    "   ])\n",
    "   return c2w @ rotation_matrix"
   ]
  },
  {
   "cell_type": "code",
   "execution_count": 80,
   "metadata": {},
   "outputs": [
    {
     "name": "stdout",
     "output_type": "stream",
     "text": [
      "[[-0.03294919  0.99027318 -0.13517915 -0.09575456]\n",
      " [-0.94753826  0.01207497  0.3194142  -0.03399538]\n",
      " [ 0.31793958  0.13861185  0.93792385  0.2       ]\n",
      " [ 0.          0.          0.          1.        ]]\n"
     ]
    }
   ],
   "source": [
    "print(camera_to_world_matrix)"
   ]
  },
  {
   "cell_type": "code",
   "execution_count": 101,
   "metadata": {},
   "outputs": [],
   "source": [
    "camera_to_world_matrix[0][3] = 0.3\n",
    "camera_to_world_matrix[1][3] = 0.04\n",
    "camera_to_world_matrix[2][3] = 0.15"
   ]
  },
  {
   "cell_type": "code",
   "execution_count": 102,
   "metadata": {},
   "outputs": [
    {
     "name": "stdout",
     "output_type": "stream",
     "text": [
      "[[-0.03294919  0.99027318 -0.13517915  0.3       ]\n",
      " [-0.94753826  0.01207497  0.3194142   0.04      ]\n",
      " [ 0.31793958  0.13861185  0.93792385  0.15      ]\n",
      " [ 0.          0.          0.          1.        ]]\n"
     ]
    }
   ],
   "source": [
    "print(camera_to_world_matrix)"
   ]
  },
  {
   "cell_type": "code",
   "execution_count": 103,
   "metadata": {},
   "outputs": [],
   "source": [
    "c2w = rotate_y(-60, camera_to_world_matrix)\n",
    "c2w = rotate_z(-90, c2w)\n",
    "# c2w = camera_to_world_matrix\n",
    "c2w_new = c2w.reshape(16, 1)\n",
    "settings.camera_poses['camera_path'][0]['camera_to_world'] = c2w_new.tolist()\n",
    "for i in range(1, len(settings.camera_poses['camera_path'])):\n",
    "   c2w = rotate_y(60, c2w)\n",
    "   c2w_new = rotate_x(-20, c2w)\n",
    "   c2w_new = c2w_new.reshape(16, 1)\n",
    "   settings.camera_poses['camera_path'][i]['camera_to_world'] = c2w_new.tolist()\n",
    "   settings.camera_poses['camera_path'][i]['fov'] = 90"
   ]
  },
  {
   "cell_type": "code",
   "execution_count": 104,
   "metadata": {},
   "outputs": [],
   "source": [
    "modelcontext.visualGrounder.camera_poses = settings.camera_poses"
   ]
  },
  {
   "cell_type": "code",
   "execution_count": 105,
   "metadata": {},
   "outputs": [],
   "source": [
    "settings.camera_poses['render_height'] = 728"
   ]
  },
  {
   "cell_type": "code",
   "execution_count": 106,
   "metadata": {},
   "outputs": [
    {
     "name": "stdout",
     "output_type": "stream",
     "text": [
      "picture taking process\n",
      "sub picture taking process\n"
     ]
    },
    {
     "data": {
      "text/html": [
       "<pre style=\"white-space:pre;overflow-x:auto;line-height:normal;font-family:Menlo,'DejaVu Sans Mono',consolas,'Courier New',monospace\"><span style=\"color: #008000; text-decoration-color: #008000; font-weight: bold\">Taking </span><span style=\"color: #008000; text-decoration-color: #008000; font-weight: bold\">6</span><span style=\"color: #008000; text-decoration-color: #008000; font-weight: bold\"> images... </span>\n",
       "</pre>\n"
      ],
      "text/plain": [
       "\u001b[1;32mTaking \u001b[0m\u001b[1;32m6\u001b[0m\u001b[1;32m images\u001b[0m\u001b[1;32m...\u001b[0m\u001b[1;32m \u001b[0m\n"
      ]
     },
     "metadata": {},
     "output_type": "display_data"
    },
    {
     "data": {
      "text/html": [
       "<pre style=\"white-space:pre;overflow-x:auto;line-height:normal;font-family:Menlo,'DejaVu Sans Mono',consolas,'Courier New',monospace\"><span style=\"color: #008000; text-decoration-color: #008000; font-weight: bold\">Finish taking </span><span style=\"color: #008000; text-decoration-color: #008000; font-weight: bold\">6</span><span style=\"color: #008000; text-decoration-color: #008000; font-weight: bold\"> images... </span>\n",
       "</pre>\n"
      ],
      "text/plain": [
       "\u001b[1;32mFinish taking \u001b[0m\u001b[1;32m6\u001b[0m\u001b[1;32m images\u001b[0m\u001b[1;32m...\u001b[0m\u001b[1;32m \u001b[0m\n"
      ]
     },
     "metadata": {},
     "output_type": "display_data"
    },
    {
     "data": {
      "text/plain": [
       "[ImageRef(id=0, clip_address='/workspace/nerf-grounding-chat-interface/grounder_images/clip/000.png', rgb_address='/workspace/nerf-grounding-chat-interface/grounder_images/rgb/000.png', encoding=array([[[0.43323818, 0.43323818, 0.43323818],\n",
       "         [0.43327507, 0.43327507, 0.43327507],\n",
       "         [0.4332153 , 0.4332153 , 0.4332153 ],\n",
       "         ...,\n",
       "         [0.45625952, 0.45625952, 0.45625952],\n",
       "         [0.45597723, 0.45597723, 0.45597723],\n",
       "         [0.45585427, 0.45585427, 0.45585427]],\n",
       " \n",
       "        [[0.43256912, 0.43256912, 0.43256912],\n",
       "         [0.43263084, 0.43263084, 0.43263084],\n",
       "         [0.43277878, 0.43277878, 0.43277878],\n",
       "         ...,\n",
       "         [0.45669782, 0.45669782, 0.45669782],\n",
       "         [0.4562784 , 0.4562784 , 0.4562784 ],\n",
       "         [0.45629972, 0.45629972, 0.45629972]],\n",
       " \n",
       "        [[0.43226776, 0.43226776, 0.43226776],\n",
       "         [0.4320178 , 0.4320178 , 0.4320178 ],\n",
       "         [0.43191573, 0.43191573, 0.43191573],\n",
       "         ...,\n",
       "         [0.45774713, 0.45774713, 0.45774713],\n",
       "         [0.45691717, 0.45691717, 0.45691717],\n",
       "         [0.45681867, 0.45681867, 0.45681867]],\n",
       " \n",
       "        ...,\n",
       " \n",
       "        [[0.48022807, 0.48022807, 0.48022807],\n",
       "         [0.4812638 , 0.4812638 , 0.4812638 ],\n",
       "         [0.48127443, 0.48127443, 0.48127443],\n",
       "         ...,\n",
       "         [0.4667571 , 0.4667571 , 0.4667571 ],\n",
       "         [0.4699564 , 0.4699564 , 0.4699564 ],\n",
       "         [0.4639043 , 0.4639043 , 0.4639043 ]],\n",
       " \n",
       "        [[0.4795854 , 0.4795854 , 0.4795854 ],\n",
       "         [0.47997874, 0.47997874, 0.47997874],\n",
       "         [0.4805817 , 0.4805817 , 0.4805817 ],\n",
       "         ...,\n",
       "         [0.465595  , 0.465595  , 0.465595  ],\n",
       "         [0.46814856, 0.46814856, 0.46814856],\n",
       "         [0.46435887, 0.46435887, 0.46435887]],\n",
       " \n",
       "        [[0.47882026, 0.47882026, 0.47882026],\n",
       "         [0.47941947, 0.47941947, 0.47941947],\n",
       "         [0.47758344, 0.47758344, 0.47758344],\n",
       "         ...,\n",
       "         [0.46556592, 0.46556592, 0.46556592],\n",
       "         [0.46775126, 0.46775126, 0.46775126],\n",
       "         [0.46677   , 0.46677   , 0.46677   ]]], dtype=float32), raw_image=None),\n",
       " ImageRef(id=1, clip_address='/workspace/nerf-grounding-chat-interface/grounder_images/clip/001.png', rgb_address='/workspace/nerf-grounding-chat-interface/grounder_images/rgb/001.png', encoding=array([[[0.42083034, 0.42083034, 0.42083034],\n",
       "         [0.42076933, 0.42076933, 0.42076933],\n",
       "         [0.42023546, 0.42023546, 0.42023546],\n",
       "         ...,\n",
       "         [0.3901279 , 0.3901279 , 0.3901279 ],\n",
       "         [0.39040077, 0.39040077, 0.39040077],\n",
       "         [0.3905676 , 0.3905676 , 0.3905676 ]],\n",
       " \n",
       "        [[0.4208042 , 0.4208042 , 0.4208042 ],\n",
       "         [0.42072308, 0.42072308, 0.42072308],\n",
       "         [0.4204492 , 0.4204492 , 0.4204492 ],\n",
       "         ...,\n",
       "         [0.38865608, 0.38865608, 0.38865608],\n",
       "         [0.38900244, 0.38900244, 0.38900244],\n",
       "         [0.39038828, 0.39038828, 0.39038828]],\n",
       " \n",
       "        [[0.42057994, 0.42057994, 0.42057994],\n",
       "         [0.42054343, 0.42054343, 0.42054343],\n",
       "         [0.42044842, 0.42044842, 0.42044842],\n",
       "         ...,\n",
       "         [0.38833898, 0.38833898, 0.38833898],\n",
       "         [0.38910183, 0.38910183, 0.38910183],\n",
       "         [0.39001486, 0.39001486, 0.39001486]],\n",
       " \n",
       "        ...,\n",
       " \n",
       "        [[0.470251  , 0.470251  , 0.470251  ],\n",
       "         [0.47001636, 0.47001636, 0.47001636],\n",
       "         [0.47014967, 0.47014967, 0.47014967],\n",
       "         ...,\n",
       "         [0.45074043, 0.45074043, 0.45074043],\n",
       "         [0.45449445, 0.45449445, 0.45449445],\n",
       "         [0.4522585 , 0.4522585 , 0.4522585 ]],\n",
       " \n",
       "        [[0.46615466, 0.46615466, 0.46615466],\n",
       "         [0.4705239 , 0.4705239 , 0.4705239 ],\n",
       "         [0.47102895, 0.47102895, 0.47102895],\n",
       "         ...,\n",
       "         [0.45405152, 0.45405152, 0.45405152],\n",
       "         [0.45215437, 0.45215437, 0.45215437],\n",
       "         [0.44904926, 0.44904926, 0.44904926]],\n",
       " \n",
       "        [[0.46684787, 0.46684787, 0.46684787],\n",
       "         [0.47101206, 0.47101206, 0.47101206],\n",
       "         [0.4700902 , 0.4700902 , 0.4700902 ],\n",
       "         ...,\n",
       "         [0.46048138, 0.46048138, 0.46048138],\n",
       "         [0.4576765 , 0.4576765 , 0.4576765 ],\n",
       "         [0.45232123, 0.45232123, 0.45232123]]], dtype=float32), raw_image=None),\n",
       " ImageRef(id=2, clip_address='/workspace/nerf-grounding-chat-interface/grounder_images/clip/002.png', rgb_address='/workspace/nerf-grounding-chat-interface/grounder_images/rgb/002.png', encoding=array([[[0.4541833 , 0.4541833 , 0.4541833 ],\n",
       "         [0.45463017, 0.45463017, 0.45463017],\n",
       "         [0.45459136, 0.45459136, 0.45459136],\n",
       "         ...,\n",
       "         [0.42253694, 0.42253694, 0.42253694],\n",
       "         [0.42257214, 0.42257214, 0.42257214],\n",
       "         [0.4224457 , 0.4224457 , 0.4224457 ]],\n",
       " \n",
       "        [[0.45474863, 0.45474863, 0.45474863],\n",
       "         [0.45490184, 0.45490184, 0.45490184],\n",
       "         [0.45527023, 0.45527023, 0.45527023],\n",
       "         ...,\n",
       "         [0.4223911 , 0.4223911 , 0.4223911 ],\n",
       "         [0.4222838 , 0.4222838 , 0.4222838 ],\n",
       "         [0.42210114, 0.42210114, 0.42210114]],\n",
       " \n",
       "        [[0.45503616, 0.45503616, 0.45503616],\n",
       "         [0.45513853, 0.45513853, 0.45513853],\n",
       "         [0.4554876 , 0.4554876 , 0.4554876 ],\n",
       "         ...,\n",
       "         [0.42259926, 0.42259926, 0.42259926],\n",
       "         [0.42203102, 0.42203102, 0.42203102],\n",
       "         [0.42194316, 0.42194316, 0.42194316]],\n",
       " \n",
       "        ...,\n",
       " \n",
       "        [[0.4998271 , 0.4998271 , 0.4998271 ],\n",
       "         [0.5002186 , 0.5002186 , 0.5002186 ],\n",
       "         [0.49807668, 0.49807668, 0.49807668],\n",
       "         ...,\n",
       "         [0.40935057, 0.40935057, 0.40935057],\n",
       "         [0.40802336, 0.40802336, 0.40802336],\n",
       "         [0.41316175, 0.41316175, 0.41316175]],\n",
       " \n",
       "        [[0.4992463 , 0.4992463 , 0.4992463 ],\n",
       "         [0.49830458, 0.49830458, 0.49830458],\n",
       "         [0.4945142 , 0.4945142 , 0.4945142 ],\n",
       "         ...,\n",
       "         [0.40863648, 0.40863648, 0.40863648],\n",
       "         [0.4109695 , 0.4109695 , 0.4109695 ],\n",
       "         [0.41181165, 0.41181165, 0.41181165]],\n",
       " \n",
       "        [[0.49976566, 0.49976566, 0.49976566],\n",
       "         [0.4993205 , 0.4993205 , 0.4993205 ],\n",
       "         [0.49422583, 0.49422583, 0.49422583],\n",
       "         ...,\n",
       "         [0.4078677 , 0.4078677 , 0.4078677 ],\n",
       "         [0.4098015 , 0.4098015 , 0.4098015 ],\n",
       "         [0.412516  , 0.412516  , 0.412516  ]]], dtype=float32), raw_image=None),\n",
       " ImageRef(id=3, clip_address='/workspace/nerf-grounding-chat-interface/grounder_images/clip/003.png', rgb_address='/workspace/nerf-grounding-chat-interface/grounder_images/rgb/003.png', encoding=array([[[0.47389367, 0.47389367, 0.47389367],\n",
       "         [0.47423992, 0.47423992, 0.47423992],\n",
       "         [0.4740846 , 0.4740846 , 0.4740846 ],\n",
       "         ...,\n",
       "         [0.45710534, 0.45710534, 0.45710534],\n",
       "         [0.45636135, 0.45636135, 0.45636135],\n",
       "         [0.45651576, 0.45651576, 0.45651576]],\n",
       " \n",
       "        [[0.4750868 , 0.4750868 , 0.4750868 ],\n",
       "         [0.47420135, 0.47420135, 0.47420135],\n",
       "         [0.47406766, 0.47406766, 0.47406766],\n",
       "         ...,\n",
       "         [0.4576477 , 0.4576477 , 0.4576477 ],\n",
       "         [0.45686105, 0.45686105, 0.45686105],\n",
       "         [0.45721745, 0.45721745, 0.45721745]],\n",
       " \n",
       "        [[0.47477072, 0.47477072, 0.47477072],\n",
       "         [0.47418368, 0.47418368, 0.47418368],\n",
       "         [0.47379744, 0.47379744, 0.47379744],\n",
       "         ...,\n",
       "         [0.45802292, 0.45802292, 0.45802292],\n",
       "         [0.45849523, 0.45849523, 0.45849523],\n",
       "         [0.45776626, 0.45776626, 0.45776626]],\n",
       " \n",
       "        ...,\n",
       " \n",
       "        [[0.46308962, 0.46308962, 0.46308962],\n",
       "         [0.45643124, 0.45643124, 0.45643124],\n",
       "         [0.45971912, 0.45971912, 0.45971912],\n",
       "         ...,\n",
       "         [0.4611674 , 0.4611674 , 0.4611674 ],\n",
       "         [0.46338698, 0.46338698, 0.46338698],\n",
       "         [0.46344894, 0.46344894, 0.46344894]],\n",
       " \n",
       "        [[0.456657  , 0.456657  , 0.456657  ],\n",
       "         [0.4579701 , 0.4579701 , 0.4579701 ],\n",
       "         [0.45706767, 0.45706767, 0.45706767],\n",
       "         ...,\n",
       "         [0.4627012 , 0.4627012 , 0.4627012 ],\n",
       "         [0.46447203, 0.46447203, 0.46447203],\n",
       "         [0.46104187, 0.46104187, 0.46104187]],\n",
       " \n",
       "        [[0.45535246, 0.45535246, 0.45535246],\n",
       "         [0.457254  , 0.457254  , 0.457254  ],\n",
       "         [0.46001145, 0.46001145, 0.46001145],\n",
       "         ...,\n",
       "         [0.46236047, 0.46236047, 0.46236047],\n",
       "         [0.46362886, 0.46362886, 0.46362886],\n",
       "         [0.46035862, 0.46035862, 0.46035862]]], dtype=float32), raw_image=None),\n",
       " ImageRef(id=4, clip_address='/workspace/nerf-grounding-chat-interface/grounder_images/clip/004.png', rgb_address='/workspace/nerf-grounding-chat-interface/grounder_images/rgb/004.png', encoding=array([[[0.43328896, 0.43328896, 0.43328896],\n",
       "         [0.43263653, 0.43263653, 0.43263653],\n",
       "         [0.43204466, 0.43204466, 0.43204466],\n",
       "         ...,\n",
       "         [0.4749484 , 0.4749484 , 0.4749484 ],\n",
       "         [0.47568905, 0.47568905, 0.47568905],\n",
       "         [0.47588158, 0.47588158, 0.47588158]],\n",
       " \n",
       "        [[0.43514588, 0.43514588, 0.43514588],\n",
       "         [0.43480617, 0.43480617, 0.43480617],\n",
       "         [0.43338314, 0.43338314, 0.43338314],\n",
       "         ...,\n",
       "         [0.47557974, 0.47557974, 0.47557974],\n",
       "         [0.47579145, 0.47579145, 0.47579145],\n",
       "         [0.47591367, 0.47591367, 0.47591367]],\n",
       " \n",
       "        [[0.43556476, 0.43556476, 0.43556476],\n",
       "         [0.43572026, 0.43572026, 0.43572026],\n",
       "         [0.43499106, 0.43499106, 0.43499106],\n",
       "         ...,\n",
       "         [0.47550026, 0.47550026, 0.47550026],\n",
       "         [0.47559404, 0.47559404, 0.47559404],\n",
       "         [0.47618416, 0.47618416, 0.47618416]],\n",
       " \n",
       "        ...,\n",
       " \n",
       "        [[0.42205685, 0.42205685, 0.42205685],\n",
       "         [0.42417505, 0.42417505, 0.42417505],\n",
       "         [0.43048245, 0.43048245, 0.43048245],\n",
       "         ...,\n",
       "         [0.46705994, 0.46705994, 0.46705994],\n",
       "         [0.46737465, 0.46737465, 0.46737465],\n",
       "         [0.4681367 , 0.4681367 , 0.4681367 ]],\n",
       " \n",
       "        [[0.42365098, 0.42365098, 0.42365098],\n",
       "         [0.42590317, 0.42590317, 0.42590317],\n",
       "         [0.4279859 , 0.4279859 , 0.4279859 ],\n",
       "         ...,\n",
       "         [0.46509054, 0.46509054, 0.46509054],\n",
       "         [0.46691725, 0.46691725, 0.46691725],\n",
       "         [0.46752566, 0.46752566, 0.46752566]],\n",
       " \n",
       "        [[0.42433262, 0.42433262, 0.42433262],\n",
       "         [0.42635968, 0.42635968, 0.42635968],\n",
       "         [0.43222815, 0.43222815, 0.43222815],\n",
       "         ...,\n",
       "         [0.4636163 , 0.4636163 , 0.4636163 ],\n",
       "         [0.4661866 , 0.4661866 , 0.4661866 ],\n",
       "         [0.4663865 , 0.4663865 , 0.4663865 ]]], dtype=float32), raw_image=None),\n",
       " ImageRef(id=5, clip_address='/workspace/nerf-grounding-chat-interface/grounder_images/clip/005.png', rgb_address='/workspace/nerf-grounding-chat-interface/grounder_images/rgb/005.png', encoding=array([[[0.45715818, 0.45715818, 0.45715818],\n",
       "         [0.45541686, 0.45541686, 0.45541686],\n",
       "         [0.45857024, 0.45857024, 0.45857024],\n",
       "         ...,\n",
       "         [0.41504776, 0.41504776, 0.41504776],\n",
       "         [0.41691458, 0.41691458, 0.41691458],\n",
       "         [0.41655168, 0.41655168, 0.41655168]],\n",
       " \n",
       "        [[0.45356658, 0.45356658, 0.45356658],\n",
       "         [0.4562254 , 0.4562254 , 0.4562254 ],\n",
       "         [0.4548258 , 0.4548258 , 0.4548258 ],\n",
       "         ...,\n",
       "         [0.41580054, 0.41580054, 0.41580054],\n",
       "         [0.41669258, 0.41669258, 0.41669258],\n",
       "         [0.41491416, 0.41491416, 0.41491416]],\n",
       " \n",
       "        [[0.45361423, 0.45361423, 0.45361423],\n",
       "         [0.4543966 , 0.4543966 , 0.4543966 ],\n",
       "         [0.45496294, 0.45496294, 0.45496294],\n",
       "         ...,\n",
       "         [0.41613525, 0.41613525, 0.41613525],\n",
       "         [0.41640398, 0.41640398, 0.41640398],\n",
       "         [0.4147926 , 0.4147926 , 0.4147926 ]],\n",
       " \n",
       "        ...,\n",
       " \n",
       "        [[0.51593447, 0.51593447, 0.51593447],\n",
       "         [0.5123471 , 0.5123471 , 0.5123471 ],\n",
       "         [0.51235104, 0.51235104, 0.51235104],\n",
       "         ...,\n",
       "         [0.48683923, 0.48683923, 0.48683923],\n",
       "         [0.48700017, 0.48700017, 0.48700017],\n",
       "         [0.487864  , 0.487864  , 0.487864  ]],\n",
       " \n",
       "        [[0.51486605, 0.51486605, 0.51486605],\n",
       "         [0.5144324 , 0.5144324 , 0.5144324 ],\n",
       "         [0.51463974, 0.51463974, 0.51463974],\n",
       "         ...,\n",
       "         [0.48698333, 0.48698333, 0.48698333],\n",
       "         [0.48826453, 0.48826453, 0.48826453],\n",
       "         [0.4885777 , 0.4885777 , 0.4885777 ]],\n",
       " \n",
       "        [[0.5144623 , 0.5144623 , 0.5144623 ],\n",
       "         [0.5170089 , 0.5170089 , 0.5170089 ],\n",
       "         [0.515672  , 0.515672  , 0.515672  ],\n",
       "         ...,\n",
       "         [0.48675427, 0.48675427, 0.48675427],\n",
       "         [0.48810726, 0.48810726, 0.48810726],\n",
       "         [0.48923966, 0.48923966, 0.48923966]]], dtype=float32), raw_image=None)]"
      ]
     },
     "execution_count": 106,
     "metadata": {},
     "output_type": "execute_result"
    }
   ],
   "source": [
    "modelcontext.visualGrounder.taking_pictures()"
   ]
  },
  {
   "cell_type": "code",
   "execution_count": null,
   "metadata": {},
   "outputs": [],
   "source": []
  }
 ],
 "metadata": {
  "kernelspec": {
   "display_name": "lang-seg",
   "language": "python",
   "name": "python3"
  },
  "language_info": {
   "codemirror_mode": {
    "name": "ipython",
    "version": 3
   },
   "file_extension": ".py",
   "mimetype": "text/x-python",
   "name": "python",
   "nbconvert_exporter": "python",
   "pygments_lexer": "ipython3",
   "version": "3.9.0"
  },
  "orig_nbformat": 4
 },
 "nbformat": 4,
 "nbformat_minor": 2
}
