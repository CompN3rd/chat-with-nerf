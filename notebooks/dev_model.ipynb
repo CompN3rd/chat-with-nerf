{
 "cells": [
  {
   "cell_type": "code",
   "execution_count": 18,
   "metadata": {},
   "outputs": [],
   "source": [
    "import os\n",
    "from pathlib import Path\n",
    "import yaml"
   ]
  },
  {
   "cell_type": "code",
   "execution_count": 4,
   "metadata": {},
   "outputs": [],
   "source": [
    "path = \"/home/xuweic/Documents/chat2ground/chat-with-nerf/data\""
   ]
  },
  {
   "cell_type": "code",
   "execution_count": 12,
   "metadata": {},
   "outputs": [],
   "source": [
    "scenes = {}\n",
    "subdirectories = [name for name in os.listdir(path) if os.path.isdir(os.path.join(path, name))]\n"
   ]
  },
  {
   "cell_type": "code",
   "execution_count": 13,
   "metadata": {},
   "outputs": [
    {
     "data": {
      "text/plain": [
       "['inthewild', 'oakcliff_home', 'theone_kitchen']"
      ]
     },
     "execution_count": 13,
     "metadata": {},
     "output_type": "execute_result"
    }
   ],
   "source": [
    "subdirectories"
   ]
  },
  {
   "cell_type": "code",
   "execution_count": 19,
   "metadata": {},
   "outputs": [],
   "source": [
    "path_inthewild = Path(path) / \"inthewild\" / \"inthewild.yaml\""
   ]
  },
  {
   "cell_type": "code",
   "execution_count": 20,
   "metadata": {},
   "outputs": [],
   "source": [
    "with open(path_inthewild, 'r') as f:\n",
    "    data = yaml.safe_load(f)"
   ]
  },
  {
   "cell_type": "code",
   "execution_count": 23,
   "metadata": {},
   "outputs": [
    {
     "data": {
      "text/plain": [
       "{'load_lerf_config': '/home/xuweic/Documents/chat2ground/chat-with-nerf/data/inthewild/outputs/bigexample/lerf/2023-04-22_022439/config.yml',\n",
       " 'camera_path': '/workspace/chat-with-nerf/data/inthewild/bigexample/Apr7at4-46PM-poly/keyframes/corrected_cameras'}"
      ]
     },
     "execution_count": 23,
     "metadata": {},
     "output_type": "execute_result"
    }
   ],
   "source": [
    "data"
   ]
  },
  {
   "cell_type": "code",
   "execution_count": null,
   "metadata": {},
   "outputs": [],
   "source": [
    "   @staticmethod\n",
    "   def edit_settings(settings: Settings):\n",
    "      # List all files in the directory\n",
    "      all_files = [\n",
    "         f\n",
    "         for f in os.listdir(settings.data_path)\n",
    "         if os.path.isfile(os.path.join(settings.data_path, f))\n",
    "      ]\n",
    "      # Sort the files alphabetically\n",
    "      all_files.sort()\n",
    "      # Get the first file in the sorted list\n",
    "      first_file = all_files[0] if all_files else None\n",
    "\n",
    "      if first_file is not None:\n",
    "         file_path = settings.data_path + \"/\" + first_file\n",
    "\n",
    "      # Replace 'file_path.json' with the actual path to your JSON file\n",
    "      with open(file_path) as file:\n",
    "         data = json.load(file)\n",
    "\n",
    "      camera_to_world_matrix = np.zeros((4, 4))\n",
    "\n",
    "      prefix = \"t_\"\n",
    "\n",
    "      for i in range(3):\n",
    "         for j in range(4):\n",
    "               camera_to_world_matrix[i][j] = data[prefix + str(i) + str(j)]\n",
    "\n",
    "      camera_to_world_matrix[3][3] = 1\n",
    "\n",
    "      if settings.current_scene == \"inthewild\":\n",
    "         camera_to_world_matrix[0][3] = 0.3\n",
    "         camera_to_world_matrix[1][3] = 0.04\n",
    "         camera_to_world_matrix[2][3] = 0.15\n",
    "\n",
    "         c2w = rotate_y(-60, camera_to_world_matrix)\n",
    "         c2w = rotate_z(-90, c2w)\n",
    "         c2w_new = c2w.reshape(16, 1)\n",
    "\n",
    "         settings.camera_poses[\"camera_path\"][0][\"camera_to_world\"] = c2w_new.tolist()\n",
    "         for i in range(1, len(settings.camera_poses[\"camera_path\"])):\n",
    "               c2w = rotate_y(60, c2w)\n",
    "               c2w_new = rotate_x(-20, c2w)\n",
    "               c2w_new = c2w_new.reshape(16, 1)\n",
    "               settings.camera_poses[\"camera_path\"][i][\n",
    "                  \"camera_to_world\"\n",
    "               ] = c2w_new.tolist()\n",
    "               settings.camera_poses[\"camera_path\"][i][\"fov\"] = 90\n",
    "      elif settings.current_scene == \"oakcliff_home\":\n",
    "         c2w = rotate_y(-60, camera_to_world_matrix)\n",
    "         c2w = rotate_z(-90, c2w)\n",
    "         c2w_new = c2w.reshape(16, 1)\n",
    "\n",
    "         settings.camera_poses[\"camera_path\"][0][\"camera_to_world\"] = c2w_new.tolist()\n",
    "         for i in range(1, len(settings.camera_poses[\"camera_path\"])):\n",
    "               c2w = rotate_y(60, c2w)\n",
    "               c2w_new = rotate_x(-20, c2w)\n",
    "               c2w_new = c2w_new.reshape(16, 1)\n",
    "               settings.camera_poses[\"camera_path\"][i][\n",
    "                  \"camera_to_world\"\n",
    "               ] = c2w_new.tolist()\n",
    "               settings.camera_poses[\"camera_path\"][i][\"fov\"] = 90\n",
    "      elif settings.current_scene == \"theone_kitchen\":\n",
    "         c2w = rotate_y(-60, camera_to_world_matrix)\n",
    "         c2w = rotate_z(-90, c2w)\n",
    "         c2w_new = c2w.reshape(16, 1)\n",
    "\n",
    "         settings.camera_poses[\"camera_path\"][0][\"camera_to_world\"] = c2w_new.tolist()\n",
    "         for i in range(1, len(settings.camera_poses[\"camera_path\"])):\n",
    "               c2w = rotate_y(60, c2w)\n",
    "               c2w_new = rotate_x(-20, c2w)\n",
    "               c2w_new = c2w_new.reshape(16, 1)\n",
    "               settings.camera_poses[\"camera_path\"][i][\n",
    "                  \"camera_to_world\"\n",
    "               ] = c2w_new.tolist()\n",
    "               settings.camera_poses[\"camera_path\"][i][\"fov\"] = 90\n",
    "\n",
    "      return settings"
   ]
  }
 ],
 "metadata": {
  "kernelspec": {
   "display_name": "lang-seg",
   "language": "python",
   "name": "python3"
  },
  "language_info": {
   "codemirror_mode": {
    "name": "ipython",
    "version": 3
   },
   "file_extension": ".py",
   "mimetype": "text/x-python",
   "name": "python",
   "nbconvert_exporter": "python",
   "pygments_lexer": "ipython3",
   "version": "3.9.0"
  },
  "orig_nbformat": 4
 },
 "nbformat": 4,
 "nbformat_minor": 2
}
