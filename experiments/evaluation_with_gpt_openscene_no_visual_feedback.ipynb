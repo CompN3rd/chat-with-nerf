{
 "cells": [
  {
   "cell_type": "code",
   "execution_count": null,
   "metadata": {},
   "outputs": [],
   "source": [
    "from chat_with_nerf.chat.agent import Agent \n",
    "import os\n",
    "import json\n",
    "import numpy as np\n",
    "from chat_with_nerf.chat.session import Session\n",
    "import time\n",
    "import open3d as o3d\n",
    "from pathlib import Path\n",
    "from chat_with_nerf.chat.system_prompt import EDITED_SYSTEM_PROMPT, NO_VISUAL_FEEDBACK_SYSTEM_PROMPT\n",
    "from chat_with_nerf.settings import Settings\n",
    "from joblib import Parallel, delayed\n",
    "from evaluation_vis_util import draw_plotly, create_bbox\n",
    "from utils import is_label_unique, convert_origin_bbox, get_transformation_matrix, construct_bbox_corners, get_box3d_min_max, box3d_iou"
   ]
  },
  {
   "cell_type": "code",
   "execution_count": null,
   "metadata": {},
   "outputs": [],
   "source": [
    "root_directory = ''  # Assuming current directory, adjust path if needed"
   ]
  },
  {
   "cell_type": "code",
   "execution_count": null,
   "metadata": {},
   "outputs": [],
   "source": [
    "def get_val_set():\n",
    "    json_dict = {}\n",
    "    # List of all subfolders and their files\n",
    "    subfolders_files = [(dp, filenames) for dp, _, filenames in os.walk(root_directory)]\n",
    "\n",
    "    # Dictionary comprehension to pick only the first JSON from each subfolder\n",
    "    json_dict = {os.path.basename(dp): os.path.join(dp, filenames[0]) for dp, filenames in subfolders_files if any(fn.endswith('.json') for fn in filenames)}\n",
    "\n",
    "    return json_dict\n",
    "\n",
    "# GPT 3.5\n",
    "# os.environ['API_URL'] = \"\"\n",
    "# os.environ['OPENAI_API_KEY'] = \"\"\"\n",
    "# GPT 4.0\n",
    "# os.environ['API_URL'] = \"\"\n",
    "# os.environ['OPENAI_API_KEY'] = \"\"\n",
    "json_dict = get_val_set()\n",
    "\n",
    "with open(scene_path, 'r') as file:\n",
    "    data = json.load(file)\n",
    "furnitures = data['objects']\n",
    "alignment_matrix = Path(\"/workspace/chat-with-nerf-eval/data/scannet/scans\")\n",
    "specific_file_path = alignment_matrix / scene_name / (scene_name + \".txt\")\n",
    "axisAlignment_matrix = get_transformation_matrix(specific_file_path)"
   ]
  },
  {
   "cell_type": "code",
   "execution_count": null,
   "metadata": {},
   "outputs": [],
   "source": [
    "acc_25 = 0\n",
    "acc_50 = 0\n",
    "acc_25_unique = 0\n",
    "acc_50_unique = 0\n",
    "acc_25_multiple = 0\n",
    "acc_50_multiple = 0\n",
    "list_iou = []\n",
    "total_object = 0\n",
    "session_id_list = []"
   ]
  },
  {
   "cell_type": "code",
   "execution_count": null,
   "metadata": {},
   "outputs": [],
   "source": [
    "agent = Agent(scene_name=scene_name)\n",
    "agent.API_URL = os.environ['API_URL']\n",
    "agent.OPENAI_API_KEY = os.environ['OPENAI_API_KEY']"
   ]
  },
  {
   "cell_type": "code",
   "execution_count": null,
   "metadata": {},
   "outputs": [],
   "source": [
    "def process_description(scene_name, description, corners_original, is_unique, object_id, query_rank_id, center_original, extents_original):  \n",
    "    MAX_RETRIES = 3\n",
    "    for retry in range(MAX_RETRIES):\n",
    "        try:\n",
    "            new_session = Session.create_for_scene(scene_name)  \n",
    "            new_session.session_id = f\"{scene_name}-{object_id}-{query_rank_id}\"  \n",
    "            new_session.working_scene_name = scene_name\n",
    "            new_session.grounding_query = description\n",
    "            new_session.ground_truth = [center_original, extents_original]\n",
    "            print(description)  \n",
    "            generator = agent.act(  \n",
    "                NO_VISUAL_FEEDBACK_SYSTEM_PROMPT,  \n",
    "                description,  \n",
    "                0.9,\n",
    "                1,  \n",
    "                scene_name,  \n",
    "                new_session  \n",
    "            )  \n",
    "            for chat_history_for_display, chat_counter, get_status_code, session, grounding_result_mesh_path in generator:  \n",
    "                pass  \n",
    "            prediction = session.candidate[str(session.chosen_candidate_id)]  \n",
    "            center = prediction['centroid']  \n",
    "            extent = prediction['extent']  \n",
    "            prediction = construct_bbox_corners(center, extent)  \n",
    "            iou3d = box3d_iou(np.array(corners_original), prediction)  \n",
    "            return iou3d, session.session_id, session, is_unique\n",
    "        except Exception as exp:\n",
    "            if retry < MAX_RETRIES - 1:  # If it's not the last retry\n",
    "                print(f\"Attempt {retry + 1} failed. Retrying...\")\n",
    "                continue\n",
    "            else:  # On the last retry, print the exception and return a message\n",
    "                print(exp)\n",
    "                # return f\"Failed after {MAX_RETRIES} attempts.\", None, None, None"
   ]
  },
  {
   "cell_type": "code",
   "execution_count": null,
   "metadata": {},
   "outputs": [],
   "source": [
    "# CODE for one room ypou can refer lerf's eval\n",
    "preprocessed_data = []\n",
    "for furniture in furnitures:\n",
    "    bbox = furniture['bbox']\n",
    "    center_original, extents_original = bbox[:3], bbox[3:6]\n",
    "    corners_original = construct_bbox_corners(center_original, extents_original)\n",
    "    label = furniture['label']\n",
    "    is_unique = is_label_unique(furnitures, label)\n",
    "    print(f\"Processing {label}...\")\n",
    "    \n",
    "    for idx, description in enumerate(furniture['description']):\n",
    "        preprocessed_data.append((scene_name, description, corners_original, is_unique, label, idx, center_original, extents_original))"
   ]
  },
  {
   "cell_type": "code",
   "execution_count": null,
   "metadata": {},
   "outputs": [],
   "source": [
    "results = Parallel(n_jobs=15, backend='threading')(delayed(process_description)(*data) for data in preprocessed_data)"
   ]
  },
  {
   "cell_type": "code",
   "execution_count": null,
   "metadata": {},
   "outputs": [],
   "source": [
    "for iou3d, session_id, session, is_unique in results:  \n",
    "    if iou3d:\n",
    "        if iou3d > 0.25:  \n",
    "            acc_25 += 1\n",
    "            if is_unique:  \n",
    "                acc_25_unique += 1  \n",
    "            else:\n",
    "                acc_25_multiple += 1  \n",
    "        if iou3d > 0.5:  \n",
    "            acc_50 += 1  \n",
    "            if is_unique:  \n",
    "                acc_50_unique += 1  \n",
    "            else:  \n",
    "                acc_50_multiple += 1  \n",
    "        list_iou.append(iou3d)\n",
    "        session_id_list.append(session_id)  \n",
    "        session.save()\n"
   ]
  },
  {
   "cell_type": "code",
   "execution_count": null,
   "metadata": {},
   "outputs": [],
   "source": [
    "print(\"acc_25 =\", acc_25)\n",
    "print(\"acc_50 =\", acc_50)\n",
    "print(\"acc_25_unique =\", acc_25_unique)\n",
    "print(\"acc_50_unique =\", acc_50_unique)\n",
    "print(\"acc_25_multiple =\", acc_25_multiple)\n",
    "print(\"acc_50_multiple =\", acc_50_multiple)\n",
    "print(\"list_iou =\", list_iou)\n",
    "print(\"total_object =\", total_object)\n",
    "print(\"session_id_list =\", session_id_list)"
   ]
  }
 ],
 "metadata": {
  "kernelspec": {
   "display_name": "Python 3",
   "language": "python",
   "name": "python3"
  },
  "language_info": {
   "codemirror_mode": {
    "name": "ipython",
    "version": 3
   },
   "file_extension": ".py",
   "mimetype": "text/x-python",
   "name": "python",
   "nbconvert_exporter": "python",
   "pygments_lexer": "ipython3",
   "version": "3.10.6"
  },
  "orig_nbformat": 4
 },
 "nbformat": 4,
 "nbformat_minor": 2
}
