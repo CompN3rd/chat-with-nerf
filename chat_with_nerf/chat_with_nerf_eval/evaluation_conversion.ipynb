{
 "cells": [
  {
   "cell_type": "code",
   "execution_count": 1,
   "metadata": {},
   "outputs": [
    {
     "name": "stdout",
     "output_type": "stream",
     "text": [
      "Jupyter environment detected. Enabling Open3D WebVisualizer.\n",
      "[Open3D INFO] WebRTC GUI backend enabled.\n",
      "[Open3D INFO] WebRTCWindowSystem: HTTP handshake server disabled.\n"
     ]
    }
   ],
   "source": [
    "import open3d as o3d\n",
    "import numpy as np\n",
    "import json"
   ]
  },
  {
   "cell_type": "code",
   "execution_count": 2,
   "metadata": {},
   "outputs": [],
   "source": [
    "with open(\"/workspace/chat-with-nerf-eval/data/scannet/scans/scene0025_00/outputs/exported/lerf/2023-09-04_065104/dataparser_transforms.json\", \"r\") as file:\n",
    "    data = json.load(file)"
   ]
  },
  {
   "cell_type": "code",
   "execution_count": 3,
   "metadata": {},
   "outputs": [],
   "source": [
    "transform = np.array(data[\"transform\"])\n",
    "scale = data[\"scale\"]"
   ]
  },
  {
   "cell_type": "code",
   "execution_count": 4,
   "metadata": {},
   "outputs": [],
   "source": [
    "rotation = transform[:, :3]\n",
    "translation = transform[:, 3]\n",
    "\n",
    "rotation_inv = rotation.T\n",
    "translation_inv = -np.dot(rotation_inv, translation)"
   ]
  },
  {
   "cell_type": "code",
   "execution_count": 5,
   "metadata": {},
   "outputs": [
    {
     "data": {
      "text/plain": [
       "array([[1., 0., 0.],\n",
       "       [0., 1., 0.],\n",
       "       [0., 0., 1.]])"
      ]
     },
     "execution_count": 5,
     "metadata": {},
     "output_type": "execute_result"
    }
   ],
   "source": [
    "rotation_inv"
   ]
  },
  {
   "cell_type": "code",
   "execution_count": 6,
   "metadata": {},
   "outputs": [
    {
     "data": {
      "text/plain": [
       "array([2.63335919, 3.252738  , 1.54422593])"
      ]
     },
     "execution_count": 6,
     "metadata": {},
     "output_type": "execute_result"
    }
   ],
   "source": [
    "translation_inv"
   ]
  },
  {
   "cell_type": "code",
   "execution_count": 7,
   "metadata": {},
   "outputs": [
    {
     "data": {
      "text/plain": [
       "True"
      ]
     },
     "execution_count": 7,
     "metadata": {},
     "output_type": "execute_result"
    }
   ],
   "source": [
    "pcd = o3d.io.read_point_cloud(\"/workspace/chat-with-nerf-eval/data/scannet/scans/scene0025_00/pcd_results/point_cloud.ply\")\n",
    "\n",
    "# 1. Apply the inverse scale\n",
    "pcd.points = o3d.utility.Vector3dVector(np.asarray(pcd.points) / scale)\n",
    "\n",
    "# 2. Apply the inverse transformation\n",
    "points_transformed = np.dot(np.asarray(pcd.points), rotation_inv) + translation_inv\n",
    "pcd.points = o3d.utility.Vector3dVector(points_transformed)\n",
    "\n",
    "# Save the transformed point cloud if needed\n",
    "o3d.io.write_point_cloud(\"/workspace/chat-with-nerf-eval/data/scannet/scans/scene0025_00/pcd_results/transformed_point_cloud.ply\", pcd)"
   ]
  },
  {
   "cell_type": "markdown",
   "metadata": {},
   "source": [
    "## cutoff points"
   ]
  },
  {
   "cell_type": "code",
   "execution_count": 8,
   "metadata": {},
   "outputs": [],
   "source": [
    "import open3d as o3d"
   ]
  },
  {
   "cell_type": "code",
   "execution_count": 9,
   "metadata": {},
   "outputs": [],
   "source": [
    "# Load your point cloud\n",
    "pcd = o3d.io.read_point_cloud(\"/workspace/chat-with-nerf-eval/data/scannet/scans/scene0025_00/pcd_results/transformed_point_cloud.ply\")\n",
    "\n",
    "# Load your mesh\n",
    "mesh = o3d.io.read_triangle_mesh(\"/workspace/chat-with-nerf-eval/data/scannet/scans/scene0025_00/scene0025_00_vh_clean_2.ply\")"
   ]
  },
  {
   "cell_type": "code",
   "execution_count": 14,
   "metadata": {},
   "outputs": [],
   "source": [
    "obb = mesh.get_oriented_bounding_box()"
   ]
  },
  {
   "cell_type": "code",
   "execution_count": 21,
   "metadata": {},
   "outputs": [],
   "source": [
    "R = obb.R\n",
    "t = obb.center\n",
    "T = np.eye(4)\n",
    "T[:3, :3] = R\n",
    "T[:3, 3] = t"
   ]
  },
  {
   "cell_type": "code",
   "execution_count": 16,
   "metadata": {},
   "outputs": [],
   "source": [
    "points_homogeneous = np.hstack((np.asarray(pcd.points), np.ones((len(pcd.points), 1))))"
   ]
  },
  {
   "cell_type": "code",
   "execution_count": 23,
   "metadata": {},
   "outputs": [],
   "source": [
    "inv_transform = np.linalg.inv(T)"
   ]
  },
  {
   "cell_type": "code",
   "execution_count": 25,
   "metadata": {},
   "outputs": [
    {
     "data": {
      "text/plain": [
       "array([[ 0.64491218, -0.76388451, -0.02384796,  3.02414145],\n",
       "       [-0.76224071, -0.64516277,  0.05247944,  2.85866997],\n",
       "       [-0.05547405, -0.01566674, -0.99833721,  1.25797859],\n",
       "       [ 0.        ,  0.        ,  0.        ,  1.        ]])"
      ]
     },
     "execution_count": 25,
     "metadata": {},
     "output_type": "execute_result"
    }
   ],
   "source": [
    "T"
   ]
  },
  {
   "cell_type": "code",
   "execution_count": 26,
   "metadata": {},
   "outputs": [],
   "source": [
    "transformed_points = (inv_transform @ points_homogeneous.T).T"
   ]
  },
  {
   "cell_type": "code",
   "execution_count": 27,
   "metadata": {},
   "outputs": [],
   "source": [
    "obb_half_extent = obb.extent / 2"
   ]
  },
  {
   "cell_type": "code",
   "execution_count": 28,
   "metadata": {},
   "outputs": [],
   "source": [
    "inside_mask = np.all(np.abs(transformed_points[:, :3]) <= obb_half_extent, axis=1)\n"
   ]
  },
  {
   "cell_type": "code",
   "execution_count": 32,
   "metadata": {},
   "outputs": [],
   "source": [
    "inside_points = o3d.utility.Vector3dVector(np.asarray(pcd.points)[inside_mask])\n",
    "inside_colors = o3d.utility.Vector3dVector(np.asarray(pcd.colors)[inside_mask]) # Added this line\n"
   ]
  },
  {
   "cell_type": "code",
   "execution_count": 33,
   "metadata": {},
   "outputs": [],
   "source": [
    "inside_pcd = o3d.geometry.PointCloud(points=inside_points)\n",
    "inside_pcd.colors = inside_colors # Added this line\n"
   ]
  },
  {
   "cell_type": "code",
   "execution_count": 34,
   "metadata": {},
   "outputs": [
    {
     "data": {
      "text/plain": [
       "True"
      ]
     },
     "execution_count": 34,
     "metadata": {},
     "output_type": "execute_result"
    }
   ],
   "source": [
    "o3d.io.write_point_cloud(\"/workspace/chat-with-nerf-eval/data/scannet/scans/scene0025_00/pcd_results/inside_pcd.ply\", inside_pcd)"
   ]
  },
  {
   "cell_type": "code",
   "execution_count": null,
   "metadata": {},
   "outputs": [],
   "source": []
  }
 ],
 "metadata": {
  "kernelspec": {
   "display_name": "Python 3",
   "language": "python",
   "name": "python3"
  },
  "language_info": {
   "codemirror_mode": {
    "name": "ipython",
    "version": 3
   },
   "file_extension": ".py",
   "mimetype": "text/x-python",
   "name": "python",
   "nbconvert_exporter": "python",
   "pygments_lexer": "ipython3",
   "version": "3.10.6"
  },
  "orig_nbformat": 4
 },
 "nbformat": 4,
 "nbformat_minor": 2
}
